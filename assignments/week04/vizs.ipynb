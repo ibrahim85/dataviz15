{
 "cells": [
  {
   "cell_type": "code",
   "execution_count": 1,
   "metadata": {
    "collapsed": false
   },
   "outputs": [],
   "source": [
    "import pandas as pd\n",
    "import numpy as np\n",
    "from pathlib import Path\n",
    "from datetime import datetime\n",
    "import seaborn as sns\n",
    "import matplotlib.pyplot as plt\n",
    "import warnings\n",
    "warnings.filterwarnings('ignore')"
   ]
  },
  {
   "cell_type": "markdown",
   "metadata": {},
   "source": [
    "### Getting the observations for the selected stations"
   ]
  },
  {
   "cell_type": "code",
   "execution_count": 2,
   "metadata": {
    "collapsed": false
   },
   "outputs": [
    {
     "name": "stdout",
     "output_type": "stream",
     "text": [
      "Reading observations CSV\n",
      "366 observations\n"
     ]
    }
   ],
   "source": [
    "p = Path('../../data/ncdc')\n",
    "observationsCSV = p.joinpath('observations_vlc.csv')\n",
    "print ('Reading observations CSV')\n",
    "dfObs = pd.read_csv(str(observationsCSV),index_col=0)\n",
    "print (\"{:,} observations\".format(len(dfObs)))"
   ]
  },
  {
   "cell_type": "code",
   "execution_count": 3,
   "metadata": {
    "collapsed": false
   },
   "outputs": [
    {
     "data": {
      "text/html": [
       "<div>\n",
       "<table border=\"1\" class=\"dataframe\">\n",
       "  <thead>\n",
       "    <tr style=\"text-align: right;\">\n",
       "      <th></th>\n",
       "      <th>stn</th>\n",
       "      <th>wban</th>\n",
       "      <th>year</th>\n",
       "      <th>monthday</th>\n",
       "      <th>temp</th>\n",
       "      <th>temp_count</th>\n",
       "      <th>dewp</th>\n",
       "      <th>dewp_count</th>\n",
       "      <th>slp</th>\n",
       "      <th>slp_count</th>\n",
       "      <th>...</th>\n",
       "      <th>gust</th>\n",
       "      <th>max</th>\n",
       "      <th>max_flag</th>\n",
       "      <th>min</th>\n",
       "      <th>min_flag</th>\n",
       "      <th>prcp</th>\n",
       "      <th>prc_flag</th>\n",
       "      <th>sndp</th>\n",
       "      <th>frshtt</th>\n",
       "      <th>koppen</th>\n",
       "    </tr>\n",
       "  </thead>\n",
       "  <tbody>\n",
       "    <tr>\n",
       "      <th>0</th>\n",
       "      <td>82840</td>\n",
       "      <td>99999</td>\n",
       "      <td>1996</td>\n",
       "      <td>101</td>\n",
       "      <td>63.3</td>\n",
       "      <td>24</td>\n",
       "      <td>47.5</td>\n",
       "      <td>24</td>\n",
       "      <td>1005.0</td>\n",
       "      <td>24</td>\n",
       "      <td>...</td>\n",
       "      <td>49.9</td>\n",
       "      <td>70.7</td>\n",
       "      <td>NaN</td>\n",
       "      <td>56.5</td>\n",
       "      <td>NaN</td>\n",
       "      <td>0</td>\n",
       "      <td>D</td>\n",
       "      <td>999.9</td>\n",
       "      <td>0</td>\n",
       "      <td>BSk</td>\n",
       "    </tr>\n",
       "    <tr>\n",
       "      <th>1</th>\n",
       "      <td>82840</td>\n",
       "      <td>99999</td>\n",
       "      <td>1996</td>\n",
       "      <td>102</td>\n",
       "      <td>59.0</td>\n",
       "      <td>23</td>\n",
       "      <td>40.9</td>\n",
       "      <td>23</td>\n",
       "      <td>1016.3</td>\n",
       "      <td>23</td>\n",
       "      <td>...</td>\n",
       "      <td>999.9</td>\n",
       "      <td>68.9</td>\n",
       "      <td>NaN</td>\n",
       "      <td>48.2</td>\n",
       "      <td>*</td>\n",
       "      <td>0</td>\n",
       "      <td>D</td>\n",
       "      <td>999.9</td>\n",
       "      <td>0</td>\n",
       "      <td>BSk</td>\n",
       "    </tr>\n",
       "    <tr>\n",
       "      <th>2</th>\n",
       "      <td>82840</td>\n",
       "      <td>99999</td>\n",
       "      <td>1996</td>\n",
       "      <td>103</td>\n",
       "      <td>52.8</td>\n",
       "      <td>24</td>\n",
       "      <td>40.9</td>\n",
       "      <td>24</td>\n",
       "      <td>1018.1</td>\n",
       "      <td>24</td>\n",
       "      <td>...</td>\n",
       "      <td>999.9</td>\n",
       "      <td>66.2</td>\n",
       "      <td>NaN</td>\n",
       "      <td>46.9</td>\n",
       "      <td>NaN</td>\n",
       "      <td>0</td>\n",
       "      <td>D</td>\n",
       "      <td>999.9</td>\n",
       "      <td>0</td>\n",
       "      <td>BSk</td>\n",
       "    </tr>\n",
       "    <tr>\n",
       "      <th>3</th>\n",
       "      <td>82840</td>\n",
       "      <td>99999</td>\n",
       "      <td>1996</td>\n",
       "      <td>104</td>\n",
       "      <td>51.1</td>\n",
       "      <td>24</td>\n",
       "      <td>46.6</td>\n",
       "      <td>24</td>\n",
       "      <td>1015.0</td>\n",
       "      <td>24</td>\n",
       "      <td>...</td>\n",
       "      <td>999.9</td>\n",
       "      <td>60.8</td>\n",
       "      <td>NaN</td>\n",
       "      <td>44.6</td>\n",
       "      <td>*</td>\n",
       "      <td>0</td>\n",
       "      <td>D</td>\n",
       "      <td>999.9</td>\n",
       "      <td>0</td>\n",
       "      <td>BSk</td>\n",
       "    </tr>\n",
       "    <tr>\n",
       "      <th>4</th>\n",
       "      <td>82840</td>\n",
       "      <td>99999</td>\n",
       "      <td>1996</td>\n",
       "      <td>105</td>\n",
       "      <td>56.2</td>\n",
       "      <td>24</td>\n",
       "      <td>46.2</td>\n",
       "      <td>24</td>\n",
       "      <td>1005.1</td>\n",
       "      <td>24</td>\n",
       "      <td>...</td>\n",
       "      <td>999.9</td>\n",
       "      <td>65.1</td>\n",
       "      <td>*</td>\n",
       "      <td>50.0</td>\n",
       "      <td>*</td>\n",
       "      <td>0</td>\n",
       "      <td>E</td>\n",
       "      <td>999.9</td>\n",
       "      <td>10000</td>\n",
       "      <td>BSk</td>\n",
       "    </tr>\n",
       "  </tbody>\n",
       "</table>\n",
       "<p>5 rows × 27 columns</p>\n",
       "</div>"
      ],
      "text/plain": [
       "     stn   wban  year  monthday  temp  temp_count  dewp  dewp_count     slp  \\\n",
       "0  82840  99999  1996       101  63.3          24  47.5          24  1005.0   \n",
       "1  82840  99999  1996       102  59.0          23  40.9          23  1016.3   \n",
       "2  82840  99999  1996       103  52.8          24  40.9          24  1018.1   \n",
       "3  82840  99999  1996       104  51.1          24  46.6          24  1015.0   \n",
       "4  82840  99999  1996       105  56.2          24  46.2          24  1005.1   \n",
       "\n",
       "   slp_count  ...     gust   max  max_flag   min  min_flag  prcp  prc_flag  \\\n",
       "0         24  ...     49.9  70.7       NaN  56.5       NaN     0         D   \n",
       "1         23  ...    999.9  68.9       NaN  48.2         *     0         D   \n",
       "2         24  ...    999.9  66.2       NaN  46.9       NaN     0         D   \n",
       "3         24  ...    999.9  60.8       NaN  44.6         *     0         D   \n",
       "4         24  ...    999.9  65.1         *  50.0         *     0         E   \n",
       "\n",
       "    sndp  frshtt koppen  \n",
       "0  999.9       0    BSk  \n",
       "1  999.9       0    BSk  \n",
       "2  999.9       0    BSk  \n",
       "3  999.9       0    BSk  \n",
       "4  999.9   10000    BSk  \n",
       "\n",
       "[5 rows x 27 columns]"
      ]
     },
     "execution_count": 3,
     "metadata": {},
     "output_type": "execute_result"
    }
   ],
   "source": [
    "dfObs.head()"
   ]
  },
  {
   "cell_type": "markdown",
   "metadata": {},
   "source": [
    "### Data management operations"
   ]
  },
  {
   "cell_type": "markdown",
   "metadata": {},
   "source": [
    "Generate an index using the id station and the date"
   ]
  },
  {
   "cell_type": "code",
   "execution_count": 4,
   "metadata": {
    "collapsed": false
   },
   "outputs": [],
   "source": [
    "def getId(stn,wban):\n",
    "    try:\n",
    "        istn = int(stn)\n",
    "        iwban = int(wban)\n",
    "        return \"{:0>6}-{:0>5}\".format(istn,iwban)\n",
    "    except ValueError:\n",
    "        print(\"{}/{}\".format(stn,wban))\n",
    "        \n",
    "def getStationByStnWban(stn,wban):\n",
    "    try:\n",
    "        koppen = scdfc.loc[getId(stn,wban)].koppen\n",
    "    except KeyError:\n",
    "        koppen = None\n",
    "    return koppen   \n",
    "def getDateTimeFromRow(row):\n",
    "    try:\n",
    "        iyear = int(row.year)\n",
    "        imonth = int(\"{:0>4}\".format(row.monthday)[0:2])\n",
    "        iday = int(\"{:0>4}\".format(row.monthday)[2:4])\n",
    "        return  datetime(iyear,imonth,iday)\n",
    "    except ValueError:\n",
    "        return np.nan\n",
    "\n",
    "dfObs['date'] = dfObs.apply(lambda row : getDateTimeFromRow(row),axis=1)\n",
    "dfObs.set_index(['date'],inplace=True)"
   ]
  },
  {
   "cell_type": "markdown",
   "metadata": {},
   "source": [
    "The `frshtt` column needs to be padded with zeros to get all the flags in the correct place. Then is possible to get the occurrence of different weather conditions"
   ]
  },
  {
   "cell_type": "code",
   "execution_count": 5,
   "metadata": {
    "collapsed": false
   },
   "outputs": [],
   "source": [
    "dfObs['frshtt']  = dfObs.apply(lambda row: \"{:0>6}\".format(row.frshtt),axis=1)\n",
    "dfObs['fog']     = dfObs['frshtt'].apply(lambda row: row[0:1]=='1')\n",
    "dfObs['rain']    = dfObs['frshtt'].apply(lambda row: row[1:2]=='1')\n",
    "dfObs['snow']    = dfObs['frshtt'].apply(lambda row: row[2:3]=='1')\n",
    "dfObs['hail']    = dfObs['frshtt'].apply(lambda row: row[3:4]=='1')\n",
    "dfObs['thunder'] = dfObs['frshtt'].apply(lambda row: row[4:5]=='1')\n",
    "dfObs['tornado'] = dfObs['frshtt'].apply(lambda row: row[5:6]=='1')"
   ]
  },
  {
   "cell_type": "markdown",
   "metadata": {},
   "source": [
    "Recode the temperatures columns, replacing the NaN values and afterwards as numerics"
   ]
  },
  {
   "cell_type": "code",
   "execution_count": 6,
   "metadata": {
    "collapsed": false
   },
   "outputs": [],
   "source": [
    "dfObs['tempC'] = dfObs['temp'].replace('99.9', np.nan)\n",
    "dfObs['maxC']  = dfObs['max'].replace('99.9', np.nan)\n",
    "dfObs['minC']  = dfObs['min'].replace('99.9', np.nan)\n",
    "\n",
    "dfObs['tempC'] = pd.to_numeric(dfObs['tempC'])\n",
    "dfObs['maxC']  = pd.to_numeric(dfObs['maxC'])\n",
    "dfObs['minC']  = pd.to_numeric( dfObs['minC']) \n",
    "\n",
    "def FtoC(f):\n",
    "    return (f-32)*5/9\n",
    "\n",
    "dfObs['tempC']= dfObs['tempC'].apply(lambda temp: FtoC(temp))\n",
    "dfObs['maxC'] = dfObs['maxC'].apply(lambda temp: FtoC(temp))\n",
    "dfObs['minC'] = dfObs['minC'].apply(lambda temp: FtoC(temp))"
   ]
  },
  {
   "cell_type": "code",
   "execution_count": 7,
   "metadata": {
    "collapsed": false
   },
   "outputs": [
    {
     "data": {
      "text/html": [
       "<div>\n",
       "<table border=\"1\" class=\"dataframe\">\n",
       "  <thead>\n",
       "    <tr style=\"text-align: right;\">\n",
       "      <th></th>\n",
       "      <th>stn</th>\n",
       "      <th>wban</th>\n",
       "      <th>year</th>\n",
       "      <th>monthday</th>\n",
       "      <th>temp</th>\n",
       "      <th>temp_count</th>\n",
       "      <th>dewp</th>\n",
       "      <th>dewp_count</th>\n",
       "      <th>slp</th>\n",
       "      <th>slp_count</th>\n",
       "      <th>...</th>\n",
       "      <th>koppen</th>\n",
       "      <th>fog</th>\n",
       "      <th>rain</th>\n",
       "      <th>snow</th>\n",
       "      <th>hail</th>\n",
       "      <th>thunder</th>\n",
       "      <th>tornado</th>\n",
       "      <th>tempC</th>\n",
       "      <th>maxC</th>\n",
       "      <th>minC</th>\n",
       "    </tr>\n",
       "    <tr>\n",
       "      <th>date</th>\n",
       "      <th></th>\n",
       "      <th></th>\n",
       "      <th></th>\n",
       "      <th></th>\n",
       "      <th></th>\n",
       "      <th></th>\n",
       "      <th></th>\n",
       "      <th></th>\n",
       "      <th></th>\n",
       "      <th></th>\n",
       "      <th></th>\n",
       "      <th></th>\n",
       "      <th></th>\n",
       "      <th></th>\n",
       "      <th></th>\n",
       "      <th></th>\n",
       "      <th></th>\n",
       "      <th></th>\n",
       "      <th></th>\n",
       "      <th></th>\n",
       "      <th></th>\n",
       "    </tr>\n",
       "  </thead>\n",
       "  <tbody>\n",
       "    <tr>\n",
       "      <th>1996-01-01</th>\n",
       "      <td>82840</td>\n",
       "      <td>99999</td>\n",
       "      <td>1996</td>\n",
       "      <td>101</td>\n",
       "      <td>63.3</td>\n",
       "      <td>24</td>\n",
       "      <td>47.5</td>\n",
       "      <td>24</td>\n",
       "      <td>1005.0</td>\n",
       "      <td>24</td>\n",
       "      <td>...</td>\n",
       "      <td>BSk</td>\n",
       "      <td>False</td>\n",
       "      <td>False</td>\n",
       "      <td>False</td>\n",
       "      <td>False</td>\n",
       "      <td>False</td>\n",
       "      <td>False</td>\n",
       "      <td>17.388889</td>\n",
       "      <td>21.500000</td>\n",
       "      <td>13.611111</td>\n",
       "    </tr>\n",
       "    <tr>\n",
       "      <th>1996-01-02</th>\n",
       "      <td>82840</td>\n",
       "      <td>99999</td>\n",
       "      <td>1996</td>\n",
       "      <td>102</td>\n",
       "      <td>59.0</td>\n",
       "      <td>23</td>\n",
       "      <td>40.9</td>\n",
       "      <td>23</td>\n",
       "      <td>1016.3</td>\n",
       "      <td>23</td>\n",
       "      <td>...</td>\n",
       "      <td>BSk</td>\n",
       "      <td>False</td>\n",
       "      <td>False</td>\n",
       "      <td>False</td>\n",
       "      <td>False</td>\n",
       "      <td>False</td>\n",
       "      <td>False</td>\n",
       "      <td>15.000000</td>\n",
       "      <td>20.500000</td>\n",
       "      <td>9.000000</td>\n",
       "    </tr>\n",
       "    <tr>\n",
       "      <th>1996-01-03</th>\n",
       "      <td>82840</td>\n",
       "      <td>99999</td>\n",
       "      <td>1996</td>\n",
       "      <td>103</td>\n",
       "      <td>52.8</td>\n",
       "      <td>24</td>\n",
       "      <td>40.9</td>\n",
       "      <td>24</td>\n",
       "      <td>1018.1</td>\n",
       "      <td>24</td>\n",
       "      <td>...</td>\n",
       "      <td>BSk</td>\n",
       "      <td>False</td>\n",
       "      <td>False</td>\n",
       "      <td>False</td>\n",
       "      <td>False</td>\n",
       "      <td>False</td>\n",
       "      <td>False</td>\n",
       "      <td>11.555556</td>\n",
       "      <td>19.000000</td>\n",
       "      <td>8.277778</td>\n",
       "    </tr>\n",
       "    <tr>\n",
       "      <th>1996-01-04</th>\n",
       "      <td>82840</td>\n",
       "      <td>99999</td>\n",
       "      <td>1996</td>\n",
       "      <td>104</td>\n",
       "      <td>51.1</td>\n",
       "      <td>24</td>\n",
       "      <td>46.6</td>\n",
       "      <td>24</td>\n",
       "      <td>1015.0</td>\n",
       "      <td>24</td>\n",
       "      <td>...</td>\n",
       "      <td>BSk</td>\n",
       "      <td>False</td>\n",
       "      <td>False</td>\n",
       "      <td>False</td>\n",
       "      <td>False</td>\n",
       "      <td>False</td>\n",
       "      <td>False</td>\n",
       "      <td>10.611111</td>\n",
       "      <td>16.000000</td>\n",
       "      <td>7.000000</td>\n",
       "    </tr>\n",
       "    <tr>\n",
       "      <th>1996-01-05</th>\n",
       "      <td>82840</td>\n",
       "      <td>99999</td>\n",
       "      <td>1996</td>\n",
       "      <td>105</td>\n",
       "      <td>56.2</td>\n",
       "      <td>24</td>\n",
       "      <td>46.2</td>\n",
       "      <td>24</td>\n",
       "      <td>1005.1</td>\n",
       "      <td>24</td>\n",
       "      <td>...</td>\n",
       "      <td>BSk</td>\n",
       "      <td>False</td>\n",
       "      <td>True</td>\n",
       "      <td>False</td>\n",
       "      <td>False</td>\n",
       "      <td>False</td>\n",
       "      <td>False</td>\n",
       "      <td>13.444444</td>\n",
       "      <td>18.388889</td>\n",
       "      <td>10.000000</td>\n",
       "    </tr>\n",
       "  </tbody>\n",
       "</table>\n",
       "<p>5 rows × 36 columns</p>\n",
       "</div>"
      ],
      "text/plain": [
       "              stn   wban  year  monthday  temp  temp_count  dewp  dewp_count  \\\n",
       "date                                                                           \n",
       "1996-01-01  82840  99999  1996       101  63.3          24  47.5          24   \n",
       "1996-01-02  82840  99999  1996       102  59.0          23  40.9          23   \n",
       "1996-01-03  82840  99999  1996       103  52.8          24  40.9          24   \n",
       "1996-01-04  82840  99999  1996       104  51.1          24  46.6          24   \n",
       "1996-01-05  82840  99999  1996       105  56.2          24  46.2          24   \n",
       "\n",
       "               slp  slp_count    ...      koppen    fog   rain   snow   hail  \\\n",
       "date                             ...                                           \n",
       "1996-01-01  1005.0         24    ...         BSk  False  False  False  False   \n",
       "1996-01-02  1016.3         23    ...         BSk  False  False  False  False   \n",
       "1996-01-03  1018.1         24    ...         BSk  False  False  False  False   \n",
       "1996-01-04  1015.0         24    ...         BSk  False  False  False  False   \n",
       "1996-01-05  1005.1         24    ...         BSk  False   True  False  False   \n",
       "\n",
       "            thunder  tornado      tempC       maxC       minC  \n",
       "date                                                           \n",
       "1996-01-01    False    False  17.388889  21.500000  13.611111  \n",
       "1996-01-02    False    False  15.000000  20.500000   9.000000  \n",
       "1996-01-03    False    False  11.555556  19.000000   8.277778  \n",
       "1996-01-04    False    False  10.611111  16.000000   7.000000  \n",
       "1996-01-05    False    False  13.444444  18.388889  10.000000  \n",
       "\n",
       "[5 rows x 36 columns]"
      ]
     },
     "execution_count": 7,
     "metadata": {},
     "output_type": "execute_result"
    }
   ],
   "source": [
    "dfObs.head()"
   ]
  },
  {
   "cell_type": "markdown",
   "metadata": {},
   "source": [
    "## Univariate visualization"
   ]
  },
  {
   "cell_type": "code",
   "execution_count": 8,
   "metadata": {
    "collapsed": false
   },
   "outputs": [],
   "source": [
    "%matplotlib inline\n",
    "df = dfObs.copy()"
   ]
  },
  {
   "cell_type": "markdown",
   "metadata": {},
   "source": [
    "### Quantitative variables"
   ]
  },
  {
   "cell_type": "code",
   "execution_count": 9,
   "metadata": {
    "collapsed": false
   },
   "outputs": [
    {
     "data": {
      "text/html": [
       "<div>\n",
       "<table border=\"1\" class=\"dataframe\">\n",
       "  <thead>\n",
       "    <tr style=\"text-align: right;\">\n",
       "      <th></th>\n",
       "      <th>tempC</th>\n",
       "      <th>maxC</th>\n",
       "      <th>minC</th>\n",
       "      <th>mxspd</th>\n",
       "    </tr>\n",
       "  </thead>\n",
       "  <tbody>\n",
       "    <tr>\n",
       "      <th>count</th>\n",
       "      <td>366.000000</td>\n",
       "      <td>366.000000</td>\n",
       "      <td>366.000000</td>\n",
       "      <td>366.000000</td>\n",
       "    </tr>\n",
       "    <tr>\n",
       "      <th>mean</th>\n",
       "      <td>17.201275</td>\n",
       "      <td>22.711900</td>\n",
       "      <td>12.636612</td>\n",
       "      <td>12.737432</td>\n",
       "    </tr>\n",
       "    <tr>\n",
       "      <th>std</th>\n",
       "      <td>5.579117</td>\n",
       "      <td>5.829933</td>\n",
       "      <td>5.459917</td>\n",
       "      <td>5.546021</td>\n",
       "    </tr>\n",
       "    <tr>\n",
       "      <th>min</th>\n",
       "      <td>5.444444</td>\n",
       "      <td>8.388889</td>\n",
       "      <td>0.000000</td>\n",
       "      <td>4.100000</td>\n",
       "    </tr>\n",
       "    <tr>\n",
       "      <th>25%</th>\n",
       "      <td>12.513889</td>\n",
       "      <td>18.000000</td>\n",
       "      <td>8.388889</td>\n",
       "      <td>8.900000</td>\n",
       "    </tr>\n",
       "    <tr>\n",
       "      <th>50%</th>\n",
       "      <td>16.888889</td>\n",
       "      <td>22.750000</td>\n",
       "      <td>12.500000</td>\n",
       "      <td>12.000000</td>\n",
       "    </tr>\n",
       "    <tr>\n",
       "      <th>75%</th>\n",
       "      <td>21.666667</td>\n",
       "      <td>27.361111</td>\n",
       "      <td>17.000000</td>\n",
       "      <td>15.900000</td>\n",
       "    </tr>\n",
       "    <tr>\n",
       "      <th>max</th>\n",
       "      <td>28.388889</td>\n",
       "      <td>37.000000</td>\n",
       "      <td>24.777778</td>\n",
       "      <td>43.900000</td>\n",
       "    </tr>\n",
       "  </tbody>\n",
       "</table>\n",
       "</div>"
      ],
      "text/plain": [
       "            tempC        maxC        minC       mxspd\n",
       "count  366.000000  366.000000  366.000000  366.000000\n",
       "mean    17.201275   22.711900   12.636612   12.737432\n",
       "std      5.579117    5.829933    5.459917    5.546021\n",
       "min      5.444444    8.388889    0.000000    4.100000\n",
       "25%     12.513889   18.000000    8.388889    8.900000\n",
       "50%     16.888889   22.750000   12.500000   12.000000\n",
       "75%     21.666667   27.361111   17.000000   15.900000\n",
       "max     28.388889   37.000000   24.777778   43.900000"
      ]
     },
     "execution_count": 9,
     "metadata": {},
     "output_type": "execute_result"
    }
   ],
   "source": [
    "df[['tempC','maxC','minC','mxspd']].describe()"
   ]
  },
  {
   "cell_type": "code",
   "execution_count": 10,
   "metadata": {
    "collapsed": false
   },
   "outputs": [
    {
     "data": {
      "text/plain": [
       "<matplotlib.text.Text at 0x7f9929eccc50>"
      ]
     },
     "execution_count": 10,
     "metadata": {},
     "output_type": "execute_result"
    },
    {
     "data": {
      "image/png": "[encoded data removed]",
      "text/plain": [
       "<matplotlib.figure.Figure at 0x7f9929f56438>"
      ]
     },
     "metadata": {},
     "output_type": "display_data"
    }
   ],
   "source": [
    "sns.distplot(df[\"tempC\"].dropna(), kde=False);\n",
    "plt.xlabel('Temperature (ºC)')\n",
    "plt.title('Mean temperature')"
   ]
  },
  {
   "cell_type": "code",
   "execution_count": 11,
   "metadata": {
    "collapsed": false
   },
   "outputs": [
    {
     "data": {
      "text/plain": [
       "<matplotlib.text.Text at 0x7f9926607e48>"
      ]
     },
     "execution_count": 11,
     "metadata": {},
     "output_type": "execute_result"
    },
    {
     "data": {
      "image/png": "[encoded data removed]",
      "text/plain": [
       "<matplotlib.figure.Figure at 0x7f9929e7f5c0>"
      ]
     },
     "metadata": {},
     "output_type": "display_data"
    }
   ],
   "source": [
    "sns.distplot(df[\"maxC\"].dropna(), kde=False);\n",
    "plt.xlabel('Temperature (ºC)')\n",
    "plt.title('Max temperature')"
   ]
  },
  {
   "cell_type": "code",
   "execution_count": 12,
   "metadata": {
    "collapsed": false
   },
   "outputs": [
    {
     "data": {
      "text/plain": [
       "<matplotlib.text.Text at 0x7f992659eb38>"
      ]
     },
     "execution_count": 12,
     "metadata": {},
     "output_type": "execute_result"
    },
    {
     "data": {
      "image/png": "[encoded data removed]",
      "text/plain": [
       "<matplotlib.figure.Figure at 0x7f9926605630>"
      ]
     },
     "metadata": {},
     "output_type": "display_data"
    }
   ],
   "source": [
    "sns.distplot(df[\"minC\"].dropna(), kde=False);\n",
    "plt.xlabel('Temperature (ºC)')\n",
    "plt.title('Min temperature')"
   ]
  },
  {
   "cell_type": "markdown",
   "metadata": {
    "collapsed": false
   },
   "source": [
    "Plotting the three variables together"
   ]
  },
  {
   "cell_type": "code",
   "execution_count": 13,
   "metadata": {
    "collapsed": false
   },
   "outputs": [
    {
     "data": {
      "text/plain": [
       "<matplotlib.text.Text at 0x7f99264aada0>"
      ]
     },
     "execution_count": 13,
     "metadata": {},
     "output_type": "execute_result"
    },
    {
     "data": {
      "image/png": "[encoded data removed]",
      "text/plain": [
       "<matplotlib.figure.Figure at 0x7f9929f56160>"
      ]
     },
     "metadata": {},
     "output_type": "display_data"
    }
   ],
   "source": [
    "sns.kdeplot(df.tempC, label=\"Mean\")\n",
    "sns.kdeplot(df.maxC, label=\"Max\")\n",
    "sns.kdeplot(df.minC, label=\"Min\")\n",
    "plt.legend();\n",
    "plt.xlabel('Temperature (ºC)')\n",
    "plt.title('Valencia station temperatures')"
   ]
  },
  {
   "cell_type": "code",
   "execution_count": 14,
   "metadata": {
    "collapsed": false
   },
   "outputs": [
    {
     "data": {
      "text/plain": [
       "<matplotlib.text.Text at 0x7f9926444be0>"
      ]
     },
     "execution_count": 14,
     "metadata": {},
     "output_type": "execute_result"
    },
    {
     "data": {
      "image/png": "[encoded data removed]",
      "text/plain": [
       "<matplotlib.figure.Figure at 0x7f9926493550>"
      ]
     },
     "metadata": {},
     "output_type": "display_data"
    }
   ],
   "source": [
    "sns.distplot(df[\"mxspd\"].dropna(), kde=False);\n",
    "plt.xlabel('Speed (knots)')\n",
    "plt.title('Wind max speed')"
   ]
  },
  {
   "cell_type": "markdown",
   "metadata": {},
   "source": [
    "### Qualitative variables"
   ]
  },
  {
   "cell_type": "markdown",
   "metadata": {},
   "source": [
    "Our qualitative variables are all `True/False` so they are categorical by definition"
   ]
  },
  {
   "cell_type": "code",
   "execution_count": 15,
   "metadata": {
    "collapsed": false
   },
   "outputs": [
    {
     "data": {
      "text/plain": [
       "<matplotlib.text.Text at 0x7f9926393240>"
      ]
     },
     "execution_count": 15,
     "metadata": {},
     "output_type": "execute_result"
    },
    {
     "data": {
      "image/png": "[encoded data removed]",
      "text/plain": [
       "<matplotlib.figure.Figure at 0x7f99264712e8>"
      ]
     },
     "metadata": {},
     "output_type": "display_data"
    }
   ],
   "source": [
    "sns.countplot(x=\"rain\", data=df);\n",
    "plt.xlabel('It rained?')\n",
    "plt.title('Raining days')"
   ]
  },
  {
   "cell_type": "code",
   "execution_count": 16,
   "metadata": {
    "collapsed": false
   },
   "outputs": [
    {
     "data": {
      "text/plain": [
       "<matplotlib.text.Text at 0x7f99262ea828>"
      ]
     },
     "execution_count": 16,
     "metadata": {},
     "output_type": "execute_result"
    },
    {
     "data": {
      "image/png": "[encoded data removed]",
      "text/plain": [
       "<matplotlib.figure.Figure at 0x7f9926347198>"
      ]
     },
     "metadata": {},
     "output_type": "display_data"
    }
   ],
   "source": [
    "sns.countplot(x=\"fog\", data=df);\n",
    "plt.xlabel('Fog recorded?')\n",
    "plt.title('Foggy days')"
   ]
  },
  {
   "cell_type": "markdown",
   "metadata": {},
   "source": [
    "## Bivariate visualizations"
   ]
  },
  {
   "cell_type": "markdown",
   "metadata": {},
   "source": [
    "Let's compare temperature and rainy days (quantitative to qualitative)"
   ]
  },
  {
   "cell_type": "code",
   "execution_count": 17,
   "metadata": {
    "collapsed": false
   },
   "outputs": [
    {
     "data": {
      "text/plain": [
       "<matplotlib.text.Text at 0x7f99262d12b0>"
      ]
     },
     "execution_count": 17,
     "metadata": {},
     "output_type": "execute_result"
    },
    {
     "data": {
      "image/png": "[encoded data removed]",
      "text/plain": [
       "<matplotlib.figure.Figure at 0x7f992631ccf8>"
      ]
     },
     "metadata": {},
     "output_type": "display_data"
    }
   ],
   "source": [
    "sns.factorplot(x=\"rain\", y=\"tempC\", data=df, kind=\"bar\", ci=None)\n",
    "plt.xlabel('It rained?')\n",
    "plt.ylabel('Mean temperature')\n",
    "plt.title('Rainy days accross temperatures')"
   ]
  },
  {
   "cell_type": "markdown",
   "metadata": {},
   "source": [
    "What about pressure and rainy days?"
   ]
  },
  {
   "cell_type": "code",
   "execution_count": 18,
   "metadata": {
    "collapsed": false
   },
   "outputs": [
    {
     "data": {
      "text/plain": [
       "<matplotlib.text.Text at 0x7f992624da58>"
      ]
     },
     "execution_count": 18,
     "metadata": {},
     "output_type": "execute_result"
    },
    {
     "data": {
      "image/png": "[encoded data removed]",
      "text/plain": [
       "<matplotlib.figure.Figure at 0x7f9926286940>"
      ]
     },
     "metadata": {},
     "output_type": "display_data"
    }
   ],
   "source": [
    "sns.factorplot(x=\"rain\", y=\"slp\", data=df, kind=\"bar\", ci=None)\n",
    "plt.xlabel('It rained?')\n",
    "plt.ylabel('Mean pressure')\n",
    "plt.title('Rainy days against sea level pressure')"
   ]
  },
  {
   "cell_type": "code",
   "execution_count": 19,
   "metadata": {
    "collapsed": false
   },
   "outputs": [
    {
     "data": {
      "text/plain": [
       "<matplotlib.text.Text at 0x7f99261b9b70>"
      ]
     },
     "execution_count": 19,
     "metadata": {},
     "output_type": "execute_result"
    },
    {
     "data": {
      "image/png": "[encoded data removed]",
      "text/plain": [
       "<matplotlib.figure.Figure at 0x7f992623ebe0>"
      ]
     },
     "metadata": {},
     "output_type": "display_data"
    }
   ],
   "source": [
    "sns.factorplot(x=\"rain\", y=\"visib\", data=df, kind=\"bar\", ci=None)\n",
    "plt.xlabel('It rained?')\n",
    "plt.ylabel('Visibility (miles)')\n",
    "plt.title('Rainy days against visibility (in miles)')"
   ]
  },
  {
   "cell_type": "markdown",
   "metadata": {},
   "source": [
    "Let's compare sea level presure and temperatures using a scatter plot"
   ]
  },
  {
   "cell_type": "code",
   "execution_count": 20,
   "metadata": {
    "collapsed": false
   },
   "outputs": [
    {
     "data": {
      "text/plain": [
       "<matplotlib.text.Text at 0x7f992619eb38>"
      ]
     },
     "execution_count": 20,
     "metadata": {},
     "output_type": "execute_result"
    },
    {
     "data": {
      "image/png": "[encoded data removed]",
      "text/plain": [
       "<matplotlib.figure.Figure at 0x7f99261b5240>"
      ]
     },
     "metadata": {},
     "output_type": "display_data"
    }
   ],
   "source": [
    "sns.regplot(x=\"tempC\", y=\"slp\", data=df)\n",
    "plt.xlabel('Mean temperature')\n",
    "plt.ylabel('Sea Level Pressure')\n",
    "plt.title('Scatterplot for temperatures aganist sea level pressure')"
   ]
  },
  {
   "cell_type": "markdown",
   "metadata": {},
   "source": [
    "What about using the measured precipitations?"
   ]
  },
  {
   "cell_type": "code",
   "execution_count": 21,
   "metadata": {
    "collapsed": false
   },
   "outputs": [
    {
     "data": {
      "text/plain": [
       "<matplotlib.text.Text at 0x7f992611f630>"
      ]
     },
     "execution_count": 21,
     "metadata": {},
     "output_type": "execute_result"
    },
    {
     "data": {
      "image/png": "[encoded data removed]",
      "text/plain": [
       "<matplotlib.figure.Figure at 0x7f992615a390>"
      ]
     },
     "metadata": {},
     "output_type": "display_data"
    }
   ],
   "source": [
    "sns.regplot(x=\"prcp\", y=\"slp\", data=df[(df.prcp>0.1)])\n",
    "plt.xlabel('Precipitation')\n",
    "plt.ylabel('Sea Level Pressure')\n",
    "plt.title('Scatterplot for precipitation aganist sea level pressure')"
   ]
  },
  {
   "cell_type": "code",
   "execution_count": 22,
   "metadata": {
    "collapsed": false
   },
   "outputs": [
    {
     "data": {
      "text/plain": [
       "<matplotlib.text.Text at 0x7f992608b0b8>"
      ]
     },
     "execution_count": 22,
     "metadata": {},
     "output_type": "execute_result"
    },
    {
     "data": {
      "image/png": "[encoded data removed]",
      "text/plain": [
       "<matplotlib.figure.Figure at 0x7f99260610f0>"
      ]
     },
     "metadata": {},
     "output_type": "display_data"
    }
   ],
   "source": [
    "sns.regplot(x=\"prcp\", y=\"visib\", data=df[(df.prcp>0.1)])\n",
    "plt.xlabel('Precipitation')\n",
    "plt.ylabel('Sea Level Pressure')\n",
    "plt.title('Scatterplot for precipitation aganist sea level pressure')"
   ]
  }
 ],
 "metadata": {
  "kernelspec": {
   "display_name": "Python 3",
   "language": "python",
   "name": "python3"
  },
  "language_info": {
   "codemirror_mode": {
    "name": "ipython",
    "version": 3
   },
   "file_extension": ".py",
   "mimetype": "text/x-python",
   "name": "python",
   "nbconvert_exporter": "python",
   "pygments_lexer": "ipython3",
   "version": "3.4.3"
  }
 },
 "nbformat": 4,
 "nbformat_minor": 0
}
