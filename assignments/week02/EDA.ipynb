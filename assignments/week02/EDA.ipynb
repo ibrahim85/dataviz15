{
 "metadata": {
  "name": "",
  "signature": "sha256:fd266a4410ba38b6de06d4d132fddef31f06484eb77ed00b07103f6afd6d47e0"
 },
 "nbformat": 3,
 "nbformat_minor": 0,
 "worksheets": [
  {
   "cells": [
    {
     "cell_type": "code",
     "collapsed": false,
     "input": [
      "import pandas as pd\n",
      "import numpy\n",
      "from pathlib import Path"
     ],
     "language": "python",
     "metadata": {},
     "outputs": [],
     "prompt_number": 1
    },
    {
     "cell_type": "heading",
     "level": 2,
     "metadata": {},
     "source": [
      "Evaluate the stations time coverage"
     ]
    },
    {
     "cell_type": "markdown",
     "metadata": {},
     "source": [
      "My first step is to find interesting stations and one of the requirements is to find some that have a good time range coverage so I will evaluate the files downloaded."
     ]
    },
    {
     "cell_type": "markdown",
     "metadata": {},
     "source": [
      "Reading the stations coordinates CSV"
     ]
    },
    {
     "cell_type": "code",
     "collapsed": false,
     "input": [
      "stations = pd.read_csv('../../data/ncdc/ish-history.csv')\n",
      "print (len(stations))\n",
      "stations[:1]"
     ],
     "language": "python",
     "metadata": {},
     "outputs": [
      {
       "output_type": "stream",
       "stream": "stdout",
       "text": [
        "30567\n"
       ]
      },
      {
       "html": [
        "<div style=\"max-height:1000px;max-width:1500px;overflow:auto;\">\n",
        "<table border=\"1\" class=\"dataframe\">\n",
        "  <thead>\n",
        "    <tr style=\"text-align: right;\">\n",
        "      <th></th>\n",
        "      <th>USAF</th>\n",
        "      <th>WBAN</th>\n",
        "      <th>STATION NAME</th>\n",
        "      <th>CTRY</th>\n",
        "      <th>FIPS</th>\n",
        "      <th>STATE</th>\n",
        "      <th>CALL</th>\n",
        "      <th>LAT</th>\n",
        "      <th>LON</th>\n",
        "      <th>ELEV(.1M)</th>\n",
        "    </tr>\n",
        "  </thead>\n",
        "  <tbody>\n",
        "    <tr>\n",
        "      <th>0</th>\n",
        "      <td> 0</td>\n",
        "      <td> 99999</td>\n",
        "      <td> NYGGBUKTA GREENLAND- STA</td>\n",
        "      <td> GL</td>\n",
        "      <td> GL</td>\n",
        "      <td> NaN</td>\n",
        "      <td> NaN</td>\n",
        "      <td> 73483</td>\n",
        "      <td> 21567</td>\n",
        "      <td> 30</td>\n",
        "    </tr>\n",
        "  </tbody>\n",
        "</table>\n",
        "</div>"
       ],
       "metadata": {},
       "output_type": "pyout",
       "prompt_number": 2,
       "text": [
        "   USAF   WBAN              STATION NAME CTRY FIPS STATE CALL    LAT    LON  \\\n",
        "0     0  99999  NYGGBUKTA GREENLAND- STA   GL   GL   NaN  NaN  73483  21567   \n",
        "\n",
        "   ELEV(.1M)  \n",
        "0         30  "
       ]
      }
     ],
     "prompt_number": 2
    },
    {
     "cell_type": "markdown",
     "metadata": {},
     "source": [
      "Instantiate the path where the NCDC data has been downloaded"
     ]
    },
    {
     "cell_type": "code",
     "collapsed": false,
     "input": [
      "p = Path('/home/jsanz/media/carto/ncdc')"
     ],
     "language": "python",
     "metadata": {},
     "outputs": [],
     "prompt_number": 3
    },
    {
     "cell_type": "markdown",
     "metadata": {},
     "source": [
      "Check if we have already the stations CSV or generate it from the files"
     ]
    },
    {
     "cell_type": "code",
     "collapsed": false,
     "input": [
      "gsodCSV = p.joinpath('gsod.csv')\n",
      "if gsodCSV.exists():\n",
      "    print ('Reading existing stations per year CSV')\n",
      "    dfGsod = pd.read_csv(str(opsCSV))\n",
      "else:\n",
      "    print ('Generating the stations per year CSV')\n",
      "    ops = p.joinpath('gsod').glob('**/*.op')\n",
      "    agsod = []\n",
      "    for op in ops:\n",
      "        agsod.append(op.name.replace('.op','').split('-'))\n",
      "    dfGsod = pd.DataFrame(data = agsod, columns=['USAF','WBAN','YEAR'])\n",
      "    dfGsod.to_csv(str(gsodCSV))"
     ],
     "language": "python",
     "metadata": {},
     "outputs": [
      {
       "output_type": "stream",
       "stream": "stdout",
       "text": [
        "Generating the stations per year CSV\n"
       ]
      }
     ],
     "prompt_number": 6
    },
    {
     "cell_type": "code",
     "collapsed": false,
     "input": [
      "dfGsod.head()"
     ],
     "language": "python",
     "metadata": {},
     "outputs": [
      {
       "html": [
        "<div style=\"max-height:1000px;max-width:1500px;overflow:auto;\">\n",
        "<table border=\"1\" class=\"dataframe\">\n",
        "  <thead>\n",
        "    <tr style=\"text-align: right;\">\n",
        "      <th></th>\n",
        "      <th>USAF</th>\n",
        "      <th>WBAN</th>\n",
        "      <th>YEAR</th>\n",
        "    </tr>\n",
        "  </thead>\n",
        "  <tbody>\n",
        "    <tr>\n",
        "      <th>0</th>\n",
        "      <td> 033110</td>\n",
        "      <td> 99999</td>\n",
        "      <td> 1931</td>\n",
        "    </tr>\n",
        "    <tr>\n",
        "      <th>1</th>\n",
        "      <td> 105130</td>\n",
        "      <td> 99999</td>\n",
        "      <td> 1931</td>\n",
        "    </tr>\n",
        "    <tr>\n",
        "      <th>2</th>\n",
        "      <td> 103610</td>\n",
        "      <td> 99999</td>\n",
        "      <td> 1931</td>\n",
        "    </tr>\n",
        "    <tr>\n",
        "      <th>3</th>\n",
        "      <td> 030050</td>\n",
        "      <td> 99999</td>\n",
        "      <td> 1931</td>\n",
        "    </tr>\n",
        "    <tr>\n",
        "      <th>4</th>\n",
        "      <td> 122050</td>\n",
        "      <td> 99999</td>\n",
        "      <td> 1931</td>\n",
        "    </tr>\n",
        "  </tbody>\n",
        "</table>\n",
        "</div>"
       ],
       "metadata": {},
       "output_type": "pyout",
       "prompt_number": 8,
       "text": [
        "     USAF   WBAN  YEAR\n",
        "0  033110  99999  1931\n",
        "1  105130  99999  1931\n",
        "2  103610  99999  1931\n",
        "3  030050  99999  1931\n",
        "4  122050  99999  1931"
       ]
      }
     ],
     "prompt_number": 8
    },
    {
     "cell_type": "markdown",
     "metadata": {},
     "source": [
      "Now study this dataframe, grouping by station (USAF/WBAN) and see the total years recorded, max and min"
     ]
    },
    {
     "cell_type": "code",
     "collapsed": false,
     "input": [],
     "language": "python",
     "metadata": {},
     "outputs": []
    }
   ],
   "metadata": {}
  }
 ]
}