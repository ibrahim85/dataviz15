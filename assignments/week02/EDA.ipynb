{
 "metadata": {
  "name": "",
  "signature": "sha256:c789965a7af717a82460732029c7e40a2f27c9f3222c36bdded0a1b24b301b78"
 },
 "nbformat": 3,
 "nbformat_minor": 0,
 "worksheets": [
  {
   "cells": [
    {
     "cell_type": "code",
     "collapsed": false,
     "input": [
      "import pandas as pd\n",
      "import numpy as np\n",
      "from pathlib import Path\n",
      "import matplotlib\n",
      "from IPython.display import HTML\n",
      "import requests\n",
      "\n",
      "# plotting options\n",
      "%matplotlib inline\n",
      "#pd.set_option('display.mpl_style', 'default') # Make the graphs a bit prettier\n"
     ],
     "language": "python",
     "metadata": {},
     "outputs": [],
     "prompt_number": 1
    },
    {
     "cell_type": "heading",
     "level": 3,
     "metadata": {},
     "source": [
      "Import stations CSV"
     ]
    },
    {
     "cell_type": "markdown",
     "metadata": {},
     "source": [
      "My first step is to find interesting stations and one of the requirements is to find some that have a good time range coverage so I will evaluate the files downloaded."
     ]
    },
    {
     "cell_type": "markdown",
     "metadata": {},
     "source": [
      "Reading the stations coordinates CSV"
     ]
    },
    {
     "cell_type": "code",
     "collapsed": false,
     "input": [
      "stations = pd.read_csv(\n",
      "    '../../data/ncdc/ish-history.csv',\n",
      "    skiprows=1, \n",
      "    names=['usaf','wban','stname','ctry','fips','state','call','lat' ,'lon' ,'elev'],\n",
      "    dtype=object)\n",
      "print (len(stations))\n",
      "stations[:3]"
     ],
     "language": "python",
     "metadata": {},
     "outputs": [
      {
       "output_type": "stream",
       "stream": "stdout",
       "text": [
        "30567\n"
       ]
      },
      {
       "html": [
        "<div style=\"max-height:1000px;max-width:1500px;overflow:auto;\">\n",
        "<table border=\"1\" class=\"dataframe\">\n",
        "  <thead>\n",
        "    <tr style=\"text-align: right;\">\n",
        "      <th></th>\n",
        "      <th>usaf</th>\n",
        "      <th>wban</th>\n",
        "      <th>stname</th>\n",
        "      <th>ctry</th>\n",
        "      <th>fips</th>\n",
        "      <th>state</th>\n",
        "      <th>call</th>\n",
        "      <th>lat</th>\n",
        "      <th>lon</th>\n",
        "      <th>elev</th>\n",
        "    </tr>\n",
        "  </thead>\n",
        "  <tbody>\n",
        "    <tr>\n",
        "      <th>0</th>\n",
        "      <td> 000000</td>\n",
        "      <td> 99999</td>\n",
        "      <td>  NYGGBUKTA GREENLAND- STA</td>\n",
        "      <td> GL</td>\n",
        "      <td> GL</td>\n",
        "      <td> NaN</td>\n",
        "      <td> NaN</td>\n",
        "      <td> +73483</td>\n",
        "      <td> +021567</td>\n",
        "      <td> +00030</td>\n",
        "    </tr>\n",
        "    <tr>\n",
        "      <th>1</th>\n",
        "      <td> 000010</td>\n",
        "      <td> 99999</td>\n",
        "      <td>                 JAN HAYEN</td>\n",
        "      <td> NO</td>\n",
        "      <td> NO</td>\n",
        "      <td> NaN</td>\n",
        "      <td> NaN</td>\n",
        "      <td> +70983</td>\n",
        "      <td> -007700</td>\n",
        "      <td> +00229</td>\n",
        "    </tr>\n",
        "    <tr>\n",
        "      <th>2</th>\n",
        "      <td> 000020</td>\n",
        "      <td> 99999</td>\n",
        "      <td> ISFJORD RADIO SPITZBERGEN</td>\n",
        "      <td> NO</td>\n",
        "      <td> NO</td>\n",
        "      <td> NaN</td>\n",
        "      <td> NaN</td>\n",
        "      <td> +78067</td>\n",
        "      <td> +013633</td>\n",
        "      <td> +00079</td>\n",
        "    </tr>\n",
        "  </tbody>\n",
        "</table>\n",
        "</div>"
       ],
       "metadata": {},
       "output_type": "pyout",
       "prompt_number": 2,
       "text": [
        "     usaf   wban                     stname ctry fips state call     lat  \\\n",
        "0  000000  99999   NYGGBUKTA GREENLAND- STA   GL   GL   NaN  NaN  +73483   \n",
        "1  000010  99999                  JAN HAYEN   NO   NO   NaN  NaN  +70983   \n",
        "2  000020  99999  ISFJORD RADIO SPITZBERGEN   NO   NO   NaN  NaN  +78067   \n",
        "\n",
        "       lon    elev  \n",
        "0  +021567  +00030  \n",
        "1  -007700  +00229  \n",
        "2  +013633  +00079  "
       ]
      }
     ],
     "prompt_number": 2
    },
    {
     "cell_type": "markdown",
     "metadata": {},
     "source": [
      "Get correct coordinates dividing the lat/lon by 1000 and the elevation by 10. Then generate a unique index and a column that specficies if the id is from a USAF station or from WBAN. Finally drop any station that doesn't have a location to use."
     ]
    },
    {
     "cell_type": "code",
     "collapsed": false,
     "input": [
      "stations['lat'] = stations.lat.apply(lambda lat: float(lat)/1000)\n",
      "stations['lon'] = stations.lon.apply(lambda lon: float(lon)/1000)\n",
      "stations['elev'] = stations.elev.apply(lambda e: float(e)/10.0)"
     ],
     "language": "python",
     "metadata": {},
     "outputs": [],
     "prompt_number": 3
    },
    {
     "cell_type": "code",
     "collapsed": false,
     "input": [
      "stations['id']     = stations.apply(lambda row : \"{}-{}\".format(row.usaf,row.wban),axis=1)\n",
      "stations.set_index(['id'],inplace=True)\n",
      "stations.dropna(how='any',subset=['lat','lon'],inplace=True)\n",
      "stations.head()"
     ],
     "language": "python",
     "metadata": {},
     "outputs": [
      {
       "html": [
        "<div style=\"max-height:1000px;max-width:1500px;overflow:auto;\">\n",
        "<table border=\"1\" class=\"dataframe\">\n",
        "  <thead>\n",
        "    <tr style=\"text-align: right;\">\n",
        "      <th></th>\n",
        "      <th>usaf</th>\n",
        "      <th>wban</th>\n",
        "      <th>stname</th>\n",
        "      <th>ctry</th>\n",
        "      <th>fips</th>\n",
        "      <th>state</th>\n",
        "      <th>call</th>\n",
        "      <th>lat</th>\n",
        "      <th>lon</th>\n",
        "      <th>elev</th>\n",
        "    </tr>\n",
        "    <tr>\n",
        "      <th>id</th>\n",
        "      <th></th>\n",
        "      <th></th>\n",
        "      <th></th>\n",
        "      <th></th>\n",
        "      <th></th>\n",
        "      <th></th>\n",
        "      <th></th>\n",
        "      <th></th>\n",
        "      <th></th>\n",
        "      <th></th>\n",
        "    </tr>\n",
        "  </thead>\n",
        "  <tbody>\n",
        "    <tr>\n",
        "      <th>000000-99999</th>\n",
        "      <td> 000000</td>\n",
        "      <td> 99999</td>\n",
        "      <td>  NYGGBUKTA GREENLAND- STA</td>\n",
        "      <td> GL</td>\n",
        "      <td> GL</td>\n",
        "      <td> NaN</td>\n",
        "      <td> NaN</td>\n",
        "      <td> 73.483</td>\n",
        "      <td> 21.567</td>\n",
        "      <td>  3.0</td>\n",
        "    </tr>\n",
        "    <tr>\n",
        "      <th>000010-99999</th>\n",
        "      <td> 000010</td>\n",
        "      <td> 99999</td>\n",
        "      <td>                 JAN HAYEN</td>\n",
        "      <td> NO</td>\n",
        "      <td> NO</td>\n",
        "      <td> NaN</td>\n",
        "      <td> NaN</td>\n",
        "      <td> 70.983</td>\n",
        "      <td> -7.700</td>\n",
        "      <td> 22.9</td>\n",
        "    </tr>\n",
        "    <tr>\n",
        "      <th>000020-99999</th>\n",
        "      <td> 000020</td>\n",
        "      <td> 99999</td>\n",
        "      <td> ISFJORD RADIO SPITZBERGEN</td>\n",
        "      <td> NO</td>\n",
        "      <td> NO</td>\n",
        "      <td> NaN</td>\n",
        "      <td> NaN</td>\n",
        "      <td> 78.067</td>\n",
        "      <td> 13.633</td>\n",
        "      <td>  7.9</td>\n",
        "    </tr>\n",
        "    <tr>\n",
        "      <th>000030-99999</th>\n",
        "      <td> 000030</td>\n",
        "      <td> 99999</td>\n",
        "      <td>      BJORNOYA BARENTS SEA</td>\n",
        "      <td> NO</td>\n",
        "      <td> NO</td>\n",
        "      <td> NaN</td>\n",
        "      <td> NaN</td>\n",
        "      <td> 74.467</td>\n",
        "      <td> 19.283</td>\n",
        "      <td> 29.0</td>\n",
        "    </tr>\n",
        "    <tr>\n",
        "      <th>000040-99999</th>\n",
        "      <td> 000040</td>\n",
        "      <td> 99999</td>\n",
        "      <td>                     VAROO</td>\n",
        "      <td> NO</td>\n",
        "      <td> NO</td>\n",
        "      <td> NaN</td>\n",
        "      <td> NaN</td>\n",
        "      <td> 70.367</td>\n",
        "      <td> 31.100</td>\n",
        "      <td> 11.9</td>\n",
        "    </tr>\n",
        "  </tbody>\n",
        "</table>\n",
        "</div>"
       ],
       "metadata": {},
       "output_type": "pyout",
       "prompt_number": 4,
       "text": [
        "                usaf   wban                     stname ctry fips state call  \\\n",
        "id                                                                            \n",
        "000000-99999  000000  99999   NYGGBUKTA GREENLAND- STA   GL   GL   NaN  NaN   \n",
        "000010-99999  000010  99999                  JAN HAYEN   NO   NO   NaN  NaN   \n",
        "000020-99999  000020  99999  ISFJORD RADIO SPITZBERGEN   NO   NO   NaN  NaN   \n",
        "000030-99999  000030  99999       BJORNOYA BARENTS SEA   NO   NO   NaN  NaN   \n",
        "000040-99999  000040  99999                      VAROO   NO   NO   NaN  NaN   \n",
        "\n",
        "                 lat     lon  elev  \n",
        "id                                  \n",
        "000000-99999  73.483  21.567   3.0  \n",
        "000010-99999  70.983  -7.700  22.9  \n",
        "000020-99999  78.067  13.633   7.9  \n",
        "000030-99999  74.467  19.283  29.0  \n",
        "000040-99999  70.367  31.100  11.9  "
       ]
      }
     ],
     "prompt_number": 4
    },
    {
     "cell_type": "code",
     "collapsed": false,
     "input": [
      "stations.tail()"
     ],
     "language": "python",
     "metadata": {},
     "outputs": [
      {
       "html": [
        "<div style=\"max-height:1000px;max-width:1500px;overflow:auto;\">\n",
        "<table border=\"1\" class=\"dataframe\">\n",
        "  <thead>\n",
        "    <tr style=\"text-align: right;\">\n",
        "      <th></th>\n",
        "      <th>usaf</th>\n",
        "      <th>wban</th>\n",
        "      <th>stname</th>\n",
        "      <th>ctry</th>\n",
        "      <th>fips</th>\n",
        "      <th>state</th>\n",
        "      <th>call</th>\n",
        "      <th>lat</th>\n",
        "      <th>lon</th>\n",
        "      <th>elev</th>\n",
        "    </tr>\n",
        "    <tr>\n",
        "      <th>id</th>\n",
        "      <th></th>\n",
        "      <th></th>\n",
        "      <th></th>\n",
        "      <th></th>\n",
        "      <th></th>\n",
        "      <th></th>\n",
        "      <th></th>\n",
        "      <th></th>\n",
        "      <th></th>\n",
        "      <th></th>\n",
        "    </tr>\n",
        "  </thead>\n",
        "  <tbody>\n",
        "    <tr>\n",
        "      <th>999999-94910</th>\n",
        "      <td> 999999</td>\n",
        "      <td> 94910</td>\n",
        "      <td>       WATERLOO MUNICIPAL AP</td>\n",
        "      <td> US</td>\n",
        "      <td> US</td>\n",
        "      <td> IA</td>\n",
        "      <td> KALO</td>\n",
        "      <td> 42.554</td>\n",
        "      <td>-92.401</td>\n",
        "      <td> 267.6</td>\n",
        "    </tr>\n",
        "    <tr>\n",
        "      <th>999999-94925</th>\n",
        "      <td> 999999</td>\n",
        "      <td> 94925</td>\n",
        "      <td>              GRAND FORKS AF</td>\n",
        "      <td> US</td>\n",
        "      <td> US</td>\n",
        "      <td> ND</td>\n",
        "      <td> KRDR</td>\n",
        "      <td> 47.961</td>\n",
        "      <td>-97.401</td>\n",
        "      <td> 277.7</td>\n",
        "    </tr>\n",
        "    <tr>\n",
        "      <th>999999-94931</th>\n",
        "      <td> 999999</td>\n",
        "      <td> 94931</td>\n",
        "      <td> HIBBING CHISHOLM-HIBBING AP</td>\n",
        "      <td> US</td>\n",
        "      <td> US</td>\n",
        "      <td> MN</td>\n",
        "      <td> KHIB</td>\n",
        "      <td> 47.387</td>\n",
        "      <td>-92.839</td>\n",
        "      <td> 413.6</td>\n",
        "    </tr>\n",
        "    <tr>\n",
        "      <th>999999-94995</th>\n",
        "      <td> 999999</td>\n",
        "      <td> 94995</td>\n",
        "      <td>        CRN NE LINCOLN 8 ENE</td>\n",
        "      <td> US</td>\n",
        "      <td> US</td>\n",
        "      <td> NE</td>\n",
        "      <td> C52A</td>\n",
        "      <td> 40.848</td>\n",
        "      <td>-96.565</td>\n",
        "      <td> 362.4</td>\n",
        "    </tr>\n",
        "    <tr>\n",
        "      <th>999999-94996</th>\n",
        "      <td> 999999</td>\n",
        "      <td> 94996</td>\n",
        "      <td>        CRN NE LINCOLN 11 SW</td>\n",
        "      <td> US</td>\n",
        "      <td> US</td>\n",
        "      <td> NE</td>\n",
        "      <td> B3BA</td>\n",
        "      <td> 40.695</td>\n",
        "      <td>-96.854</td>\n",
        "      <td> 418.2</td>\n",
        "    </tr>\n",
        "  </tbody>\n",
        "</table>\n",
        "</div>"
       ],
       "metadata": {},
       "output_type": "pyout",
       "prompt_number": 5,
       "text": [
        "                usaf   wban                       stname ctry fips state  \\\n",
        "id                                                                         \n",
        "999999-94910  999999  94910        WATERLOO MUNICIPAL AP   US   US    IA   \n",
        "999999-94925  999999  94925               GRAND FORKS AF   US   US    ND   \n",
        "999999-94931  999999  94931  HIBBING CHISHOLM-HIBBING AP   US   US    MN   \n",
        "999999-94995  999999  94995         CRN NE LINCOLN 8 ENE   US   US    NE   \n",
        "999999-94996  999999  94996         CRN NE LINCOLN 11 SW   US   US    NE   \n",
        "\n",
        "              call     lat     lon   elev  \n",
        "id                                         \n",
        "999999-94910  KALO  42.554 -92.401  267.6  \n",
        "999999-94925  KRDR  47.961 -97.401  277.7  \n",
        "999999-94931  KHIB  47.387 -92.839  413.6  \n",
        "999999-94995  C52A  40.848 -96.565  362.4  \n",
        "999999-94996  B3BA  40.695 -96.854  418.2  "
       ]
      }
     ],
     "prompt_number": 5
    },
    {
     "cell_type": "heading",
     "level": 3,
     "metadata": {},
     "source": [
      "Read CSV of observations"
     ]
    },
    {
     "cell_type": "markdown",
     "metadata": {},
     "source": [
      "Instantiate the path where the NCDC data has been downloaded"
     ]
    },
    {
     "cell_type": "code",
     "collapsed": false,
     "input": [
      "p = Path('../../data/ncdc')"
     ],
     "language": "python",
     "metadata": {},
     "outputs": [],
     "prompt_number": 6
    },
    {
     "cell_type": "markdown",
     "metadata": {},
     "source": [
      "Check if we have already the stations CSV or generate it from the files. To generate the CSV the name file will be inspected but also a full read of the file will be performed in order to count the number of observations on every station."
     ]
    },
    {
     "cell_type": "code",
     "collapsed": false,
     "input": [
      "gsodCSV = p.joinpath('gsod.csv')\n",
      "if not gsodCSV.exists():\n",
      "    ops = p.joinpath('raw').joinpath('gsod').glob('**/*.op')\n",
      "    agsod = []\n",
      "\n",
      "    for op in ops:\n",
      "        try:\n",
      "            data = op.name.replace('.op','').split('-')\n",
      "            data.append(sum(1 for line in op.open( encoding='utf8' ))-1)\n",
      "            agsod.append(data)\n",
      "        except UnicodeDecodeError:\n",
      "          print (op.absolute())\n",
      "    dfGsod = pd.DataFrame(data = agsod, columns=['usaf','wban','year','obs'])\n",
      "    dfGsod['id'] = dfGsod.apply(lambda row: \"{}-{}\".format(row.usaf,row.wban) ,axis=1)\n",
      "    dfGsod = dfGsod.set_index(['id'])\n",
      "    dfGsod[['year','obs']].to_csv(str(gsodCSV))\n",
      "\n"
     ],
     "language": "python",
     "metadata": {},
     "outputs": [],
     "prompt_number": 7
    },
    {
     "cell_type": "code",
     "collapsed": false,
     "input": [
      "print ('Reading existing stations per year CSV')\n",
      "dfGsod = pd.read_csv(str(gsodCSV),index_col=['id'])\n",
      "print (\"{:,} station files\".format(len(dfGsod)))\n",
      "print (\"{:,} observations\".format(dfGsod.obs.sum()))\n",
      "dfGsod.head()"
     ],
     "language": "python",
     "metadata": {},
     "outputs": [
      {
       "output_type": "stream",
       "stream": "stdout",
       "text": [
        "Reading existing stations per year CSV\n",
        "404,762 station files"
       ]
      },
      {
       "output_type": "stream",
       "stream": "stdout",
       "text": [
        "\n",
        "111,648,951 observations\n"
       ]
      },
      {
       "html": [
        "<div style=\"max-height:1000px;max-width:1500px;overflow:auto;\">\n",
        "<table border=\"1\" class=\"dataframe\">\n",
        "  <thead>\n",
        "    <tr style=\"text-align: right;\">\n",
        "      <th></th>\n",
        "      <th>year</th>\n",
        "      <th>obs</th>\n",
        "    </tr>\n",
        "    <tr>\n",
        "      <th>id</th>\n",
        "      <th></th>\n",
        "      <th></th>\n",
        "    </tr>\n",
        "  </thead>\n",
        "  <tbody>\n",
        "    <tr>\n",
        "      <th>033110-99999</th>\n",
        "      <td> 1931</td>\n",
        "      <td> 357</td>\n",
        "    </tr>\n",
        "    <tr>\n",
        "      <th>105130-99999</th>\n",
        "      <td> 1931</td>\n",
        "      <td> 196</td>\n",
        "    </tr>\n",
        "    <tr>\n",
        "      <th>103610-99999</th>\n",
        "      <td> 1931</td>\n",
        "      <td>   1</td>\n",
        "    </tr>\n",
        "    <tr>\n",
        "      <th>030050-99999</th>\n",
        "      <td> 1931</td>\n",
        "      <td> 365</td>\n",
        "    </tr>\n",
        "    <tr>\n",
        "      <th>122050-99999</th>\n",
        "      <td> 1931</td>\n",
        "      <td> 359</td>\n",
        "    </tr>\n",
        "  </tbody>\n",
        "</table>\n",
        "</div>"
       ],
       "metadata": {},
       "output_type": "pyout",
       "prompt_number": 8,
       "text": [
        "              year  obs\n",
        "id                     \n",
        "033110-99999  1931  357\n",
        "105130-99999  1931  196\n",
        "103610-99999  1931    1\n",
        "030050-99999  1931  365\n",
        "122050-99999  1931  359"
       ]
      }
     ],
     "prompt_number": 8
    },
    {
     "cell_type": "heading",
     "level": 3,
     "metadata": {},
     "source": [
      "Year statistics per station"
     ]
    },
    {
     "cell_type": "markdown",
     "metadata": {},
     "source": [
      "Now study this dataframe, grouping by id and see the total years recorded, max and min"
     ]
    },
    {
     "cell_type": "code",
     "collapsed": false,
     "input": [
      "year_groups = dfGsod[['year']].groupby(level=0)\n",
      "year_count  = year_groups.count()\n",
      "year_max    = year_groups.max()\n",
      "year_min    = year_groups.min()\n",
      "\n",
      "years = pd.concat([year_count,year_max,year_min],axis=1)\n",
      "years.columns = ['count','max','min']\n",
      "years.head()"
     ],
     "language": "python",
     "metadata": {},
     "outputs": [
      {
       "html": [
        "<div style=\"max-height:1000px;max-width:1500px;overflow:auto;\">\n",
        "<table border=\"1\" class=\"dataframe\">\n",
        "  <thead>\n",
        "    <tr style=\"text-align: right;\">\n",
        "      <th></th>\n",
        "      <th>count</th>\n",
        "      <th>max</th>\n",
        "      <th>min</th>\n",
        "    </tr>\n",
        "    <tr>\n",
        "      <th>id</th>\n",
        "      <th></th>\n",
        "      <th></th>\n",
        "      <th></th>\n",
        "    </tr>\n",
        "  </thead>\n",
        "  <tbody>\n",
        "    <tr>\n",
        "      <th>008209-99999</th>\n",
        "      <td>  1</td>\n",
        "      <td> 2009</td>\n",
        "      <td> 2009</td>\n",
        "    </tr>\n",
        "    <tr>\n",
        "      <th>008210-99999</th>\n",
        "      <td>  1</td>\n",
        "      <td> 2009</td>\n",
        "      <td> 2009</td>\n",
        "    </tr>\n",
        "    <tr>\n",
        "      <th>010010-99999</th>\n",
        "      <td> 41</td>\n",
        "      <td> 2009</td>\n",
        "      <td> 1955</td>\n",
        "    </tr>\n",
        "    <tr>\n",
        "      <th>010013-99999</th>\n",
        "      <td>  3</td>\n",
        "      <td> 1988</td>\n",
        "      <td> 1986</td>\n",
        "    </tr>\n",
        "    <tr>\n",
        "      <th>010014-99999</th>\n",
        "      <td> 24</td>\n",
        "      <td> 2009</td>\n",
        "      <td> 1986</td>\n",
        "    </tr>\n",
        "  </tbody>\n",
        "</table>\n",
        "</div>"
       ],
       "metadata": {},
       "output_type": "pyout",
       "prompt_number": 9,
       "text": [
        "              count   max   min\n",
        "id                             \n",
        "008209-99999      1  2009  2009\n",
        "008210-99999      1  2009  2009\n",
        "010010-99999     41  2009  1955\n",
        "010013-99999      3  1988  1986\n",
        "010014-99999     24  2009  1986"
       ]
      }
     ],
     "prompt_number": 9
    },
    {
     "cell_type": "heading",
     "level": 3,
     "metadata": {},
     "source": [
      "Count observations per station"
     ]
    },
    {
     "cell_type": "code",
     "collapsed": false,
     "input": [
      "obs_groups = dfGsod[['obs']].groupby(level=0)\n",
      "obs_count = obs_groups.sum()\n",
      "obs_count.head()"
     ],
     "language": "python",
     "metadata": {},
     "outputs": [
      {
       "html": [
        "<div style=\"max-height:1000px;max-width:1500px;overflow:auto;\">\n",
        "<table border=\"1\" class=\"dataframe\">\n",
        "  <thead>\n",
        "    <tr style=\"text-align: right;\">\n",
        "      <th></th>\n",
        "      <th>obs</th>\n",
        "    </tr>\n",
        "    <tr>\n",
        "      <th>id</th>\n",
        "      <th></th>\n",
        "    </tr>\n",
        "  </thead>\n",
        "  <tbody>\n",
        "    <tr>\n",
        "      <th>008209-99999</th>\n",
        "      <td>    27</td>\n",
        "    </tr>\n",
        "    <tr>\n",
        "      <th>008210-99999</th>\n",
        "      <td>    32</td>\n",
        "    </tr>\n",
        "    <tr>\n",
        "      <th>010010-99999</th>\n",
        "      <td> 14180</td>\n",
        "    </tr>\n",
        "    <tr>\n",
        "      <th>010013-99999</th>\n",
        "      <td>   335</td>\n",
        "    </tr>\n",
        "    <tr>\n",
        "      <th>010014-99999</th>\n",
        "      <td>  6300</td>\n",
        "    </tr>\n",
        "  </tbody>\n",
        "</table>\n",
        "</div>"
       ],
       "metadata": {},
       "output_type": "pyout",
       "prompt_number": 10,
       "text": [
        "                obs\n",
        "id                 \n",
        "008209-99999     27\n",
        "008210-99999     32\n",
        "010010-99999  14180\n",
        "010013-99999    335\n",
        "010014-99999   6300"
       ]
      }
     ],
     "prompt_number": 10
    },
    {
     "cell_type": "heading",
     "level": 3,
     "metadata": {},
     "source": [
      "Join stations and observations statistics"
     ]
    },
    {
     "cell_type": "markdown",
     "metadata": {},
     "source": [
      "Now we can check if the indexes of both data frames are unique and then join them to retreive only the stations with observations"
     ]
    },
    {
     "cell_type": "code",
     "collapsed": false,
     "input": [
      "stations.index.is_unique and years.index.is_unique and obs_count.index.is_unique"
     ],
     "language": "python",
     "metadata": {},
     "outputs": [
      {
       "metadata": {},
       "output_type": "pyout",
       "prompt_number": 11,
       "text": [
        "True"
       ]
      }
     ],
     "prompt_number": 11
    },
    {
     "cell_type": "code",
     "collapsed": false,
     "input": [
      "scdf = pd.concat([stations,years,obs_count],axis=1,join='inner')\n",
      "scdf.head()"
     ],
     "language": "python",
     "metadata": {},
     "outputs": [
      {
       "html": [
        "<div style=\"max-height:1000px;max-width:1500px;overflow:auto;\">\n",
        "<table border=\"1\" class=\"dataframe\">\n",
        "  <thead>\n",
        "    <tr style=\"text-align: right;\">\n",
        "      <th></th>\n",
        "      <th>usaf</th>\n",
        "      <th>wban</th>\n",
        "      <th>stname</th>\n",
        "      <th>ctry</th>\n",
        "      <th>fips</th>\n",
        "      <th>state</th>\n",
        "      <th>call</th>\n",
        "      <th>lat</th>\n",
        "      <th>lon</th>\n",
        "      <th>elev</th>\n",
        "      <th>count</th>\n",
        "      <th>max</th>\n",
        "      <th>min</th>\n",
        "      <th>obs</th>\n",
        "    </tr>\n",
        "    <tr>\n",
        "      <th>id</th>\n",
        "      <th></th>\n",
        "      <th></th>\n",
        "      <th></th>\n",
        "      <th></th>\n",
        "      <th></th>\n",
        "      <th></th>\n",
        "      <th></th>\n",
        "      <th></th>\n",
        "      <th></th>\n",
        "      <th></th>\n",
        "      <th></th>\n",
        "      <th></th>\n",
        "      <th></th>\n",
        "      <th></th>\n",
        "    </tr>\n",
        "  </thead>\n",
        "  <tbody>\n",
        "    <tr>\n",
        "      <th>010010-99999</th>\n",
        "      <td> 010010</td>\n",
        "      <td> 99999</td>\n",
        "      <td>   JAN MAYEN</td>\n",
        "      <td> NO</td>\n",
        "      <td> NO</td>\n",
        "      <td> NaN</td>\n",
        "      <td> ENJA</td>\n",
        "      <td> 70.933</td>\n",
        "      <td> -8.667</td>\n",
        "      <td>   9</td>\n",
        "      <td> 41</td>\n",
        "      <td> 2009</td>\n",
        "      <td> 1955</td>\n",
        "      <td> 14180</td>\n",
        "    </tr>\n",
        "    <tr>\n",
        "      <th>010014-99999</th>\n",
        "      <td> 010014</td>\n",
        "      <td> 99999</td>\n",
        "      <td> SOERSTOKKEN</td>\n",
        "      <td> NO</td>\n",
        "      <td> NO</td>\n",
        "      <td> NaN</td>\n",
        "      <td> ENSO</td>\n",
        "      <td> 59.783</td>\n",
        "      <td>  5.350</td>\n",
        "      <td>  49</td>\n",
        "      <td> 24</td>\n",
        "      <td> 2009</td>\n",
        "      <td> 1986</td>\n",
        "      <td>  6300</td>\n",
        "    </tr>\n",
        "    <tr>\n",
        "      <th>010015-99999</th>\n",
        "      <td> 010015</td>\n",
        "      <td> 99999</td>\n",
        "      <td>  BRINGELAND</td>\n",
        "      <td> NO</td>\n",
        "      <td> NO</td>\n",
        "      <td> NaN</td>\n",
        "      <td> ENBL</td>\n",
        "      <td> 61.383</td>\n",
        "      <td>  5.867</td>\n",
        "      <td> 327</td>\n",
        "      <td> 23</td>\n",
        "      <td> 2009</td>\n",
        "      <td> 1987</td>\n",
        "      <td>  8030</td>\n",
        "    </tr>\n",
        "    <tr>\n",
        "      <th>010016-99999</th>\n",
        "      <td> 010016</td>\n",
        "      <td> 99999</td>\n",
        "      <td> RORVIK/RYUM</td>\n",
        "      <td> NO</td>\n",
        "      <td> NO</td>\n",
        "      <td> NaN</td>\n",
        "      <td>  NaN</td>\n",
        "      <td> 64.850</td>\n",
        "      <td> 11.233</td>\n",
        "      <td>  14</td>\n",
        "      <td>  5</td>\n",
        "      <td> 1991</td>\n",
        "      <td> 1987</td>\n",
        "      <td>  1555</td>\n",
        "    </tr>\n",
        "    <tr>\n",
        "      <th>010017-99999</th>\n",
        "      <td> 010017</td>\n",
        "      <td> 99999</td>\n",
        "      <td>       FRIGG</td>\n",
        "      <td> NO</td>\n",
        "      <td> NO</td>\n",
        "      <td> NaN</td>\n",
        "      <td> ENFR</td>\n",
        "      <td> 59.933</td>\n",
        "      <td>  2.417</td>\n",
        "      <td>  48</td>\n",
        "      <td> 18</td>\n",
        "      <td> 2005</td>\n",
        "      <td> 1988</td>\n",
        "      <td>  4086</td>\n",
        "    </tr>\n",
        "  </tbody>\n",
        "</table>\n",
        "</div>"
       ],
       "metadata": {},
       "output_type": "pyout",
       "prompt_number": 12,
       "text": [
        "                usaf   wban       stname ctry fips state  call     lat  \\\n",
        "id                                                                       \n",
        "010010-99999  010010  99999    JAN MAYEN   NO   NO   NaN  ENJA  70.933   \n",
        "010014-99999  010014  99999  SOERSTOKKEN   NO   NO   NaN  ENSO  59.783   \n",
        "010015-99999  010015  99999   BRINGELAND   NO   NO   NaN  ENBL  61.383   \n",
        "010016-99999  010016  99999  RORVIK/RYUM   NO   NO   NaN   NaN  64.850   \n",
        "010017-99999  010017  99999        FRIGG   NO   NO   NaN  ENFR  59.933   \n",
        "\n",
        "                 lon  elev  count   max   min    obs  \n",
        "id                                                    \n",
        "010010-99999  -8.667     9     41  2009  1955  14180  \n",
        "010014-99999   5.350    49     24  2009  1986   6300  \n",
        "010015-99999   5.867   327     23  2009  1987   8030  \n",
        "010016-99999  11.233    14      5  1991  1987   1555  \n",
        "010017-99999   2.417    48     18  2005  1988   4086  "
       ]
      }
     ],
     "prompt_number": 12
    },
    {
     "cell_type": "markdown",
     "metadata": {},
     "source": [
      "Finally we can study this dataset and filter the appropriate stations for our study on this first iteration"
     ]
    },
    {
     "cell_type": "code",
     "collapsed": false,
     "input": [
      "scdf.to_csv('stations.csv')"
     ],
     "language": "python",
     "metadata": {},
     "outputs": [],
     "prompt_number": 13
    },
    {
     "cell_type": "heading",
     "level": 3,
     "metadata": {},
     "source": [
      "Get preferred stations"
     ]
    },
    {
     "cell_type": "markdown",
     "metadata": {},
     "source": [
      "Next step is done at [CartoDB](http://cartodb.com) an analysis and mapping service. From the exported `stations.csv`, I've created a map of the stations that have more than 40 years, are below 500 meters elevation and that intersect with the warm regions according to the [K\u00f6ppen-Geiger](http://koeppen-geiger.vu-wien.ac.at/shifts.htm) classification. The map is interactive, you can zoom in and click on stations to check it's attributions."
     ]
    },
    {
     "cell_type": "code",
     "collapsed": false,
     "input": [
      "HTML('<iframe width=\"100%\" height=\"520\" frameborder=\"0\" src=\"https://team.cartodb.com/u/jsanz/viz/bd9456f8-6530-11e5-b18a-0e0c41326911/embed_map\" allowfullscreen webkitallowfullscreen mozallowfullscreen oallowfullscreen msallowfullscreen></iframe>')"
     ],
     "language": "python",
     "metadata": {},
     "outputs": [
      {
       "html": [
        "<iframe width=\"100%\" height=\"520\" frameborder=\"0\" src=\"https://team.cartodb.com/u/jsanz/viz/bd9456f8-6530-11e5-b18a-0e0c41326911/embed_map\" allowfullscreen webkitallowfullscreen mozallowfullscreen oallowfullscreen msallowfullscreen></iframe>"
       ],
       "metadata": {},
       "output_type": "pyout",
       "prompt_number": 14,
       "text": [
        "<IPython.core.display.HTML at 0x7fdcb6ee49e8>"
       ]
      }
     ],
     "prompt_number": 14
    },
    {
     "cell_type": "markdown",
     "metadata": {},
     "source": [
      "To get those stations back to this notebook I will use CartoDB SQL API so I will execute this SQL using the CSV format so it can be read directly into a Pandas DataFrame.\n",
      "\n",
      "```\n",
      "WITH regions AS (\n",
      "  SELECT *,\n",
      "  CASE GRIDCODE \n",
      "    WHEN 31 THEN 'Cfa'\n",
      "    WHEN 32 THEN 'Cfb'\n",
      "    WHEN 33 THEN 'Cfc'\n",
      "    WHEN 34 THEN 'Csa'\n",
      "    WHEN 35 THEN 'Csb'\n",
      "    WHEN 36 THEN 'Csc'\n",
      "    ELSE 'NA' \n",
      "  END cat\n",
      "  FROM climate_regions \n",
      "  WHERE gridcode >= 31 and gridcode <= 36\n",
      "), wstations AS ( \n",
      "  SELECT s.id, r.cat\n",
      "  FROM jsanz.stations s \n",
      "  JOIN regions r ON ST_Intersects(s.the_geom,r.the_geom)\n",
      "  WHERE count >= 40 AND elev < 500\n",
      ")\n",
      "  select id, string_agg(cat,', ') from wstations group by id\n",
      "```"
     ]
    },
    {
     "cell_type": "code",
     "collapsed": false,
     "input": [
      "query = 'https://jsanz.cartodb.com/api/v1/sql?format=csv&q=WITH+regions+AS+(%0A++SELECT+*,%0A++CASE+GRIDCODE+%0A++++WHEN+31+THEN+%27Cfa%27%0A++++WHEN+32+THEN+%27Cfb%27%0A++++WHEN+33+THEN+%27Cfc%27%0A++++WHEN+34+THEN+%27Csa%27%0A++++WHEN+35+THEN+%27Csb%27%0A++++WHEN+36+THEN+%27Csc%27%0A++++ELSE+%27NA%27+%0A++END+cat%0A++FROM+climate_regions+%0A++WHERE+gridcode+>%3D+31+and+gridcode+<%3D+36%0A),+wstations+AS+(+%0A++SELECT+s.id,+r.cat%0A++FROM+jsanz.stations+s+%0A++JOIN+regions+r+ON+ST_Intersects(s.the_geom,r.the_geom)%0A++WHERE+count+>%3D+40+AND+elev+<+500%0A)%0A++select+id,+string_agg(cat,%27,+%27)+cat+from+wstations+group+by+id'\n",
      "selections = pd.read_csv(query,index_col=['id'])\n",
      "selections.head()"
     ],
     "language": "python",
     "metadata": {},
     "outputs": [
      {
       "html": [
        "<div style=\"max-height:1000px;max-width:1500px;overflow:auto;\">\n",
        "<table border=\"1\" class=\"dataframe\">\n",
        "  <thead>\n",
        "    <tr style=\"text-align: right;\">\n",
        "      <th></th>\n",
        "      <th>cat</th>\n",
        "    </tr>\n",
        "    <tr>\n",
        "      <th>id</th>\n",
        "      <th></th>\n",
        "    </tr>\n",
        "  </thead>\n",
        "  <tbody>\n",
        "    <tr>\n",
        "      <th>161400-99999</th>\n",
        "      <td> Cfa</td>\n",
        "    </tr>\n",
        "    <tr>\n",
        "      <th>062650-99999</th>\n",
        "      <td> Cfb</td>\n",
        "    </tr>\n",
        "    <tr>\n",
        "      <th>746710-13806</th>\n",
        "      <td> Cfa</td>\n",
        "    </tr>\n",
        "    <tr>\n",
        "      <th>373950-99999</th>\n",
        "      <td> Cfa</td>\n",
        "    </tr>\n",
        "    <tr>\n",
        "      <th>161490-99999</th>\n",
        "      <td> Cfa</td>\n",
        "    </tr>\n",
        "  </tbody>\n",
        "</table>\n",
        "</div>"
       ],
       "metadata": {},
       "output_type": "pyout",
       "prompt_number": 15,
       "text": [
        "              cat\n",
        "id               \n",
        "161400-99999  Cfa\n",
        "062650-99999  Cfb\n",
        "746710-13806  Cfa\n",
        "373950-99999  Cfa\n",
        "161490-99999  Cfa"
       ]
      }
     ],
     "prompt_number": 15
    },
    {
     "cell_type": "markdown",
     "metadata": {},
     "source": [
      "Check if the index of the imported dataframe is unique and then join it with our stations dataset. This join will keep only data on both data frames using the parameter `join='inner'`."
     ]
    },
    {
     "cell_type": "code",
     "collapsed": false,
     "input": [
      "selections.index.is_unique"
     ],
     "language": "python",
     "metadata": {},
     "outputs": [
      {
       "metadata": {},
       "output_type": "pyout",
       "prompt_number": 16,
       "text": [
        "True"
       ]
      }
     ],
     "prompt_number": 16
    },
    {
     "cell_type": "code",
     "collapsed": false,
     "input": [
      "scdfc = pd.concat([scdf,selections],axis=1,join='inner')\n",
      "scdfc.head()"
     ],
     "language": "python",
     "metadata": {},
     "outputs": [
      {
       "html": [
        "<div style=\"max-height:1000px;max-width:1500px;overflow:auto;\">\n",
        "<table border=\"1\" class=\"dataframe\">\n",
        "  <thead>\n",
        "    <tr style=\"text-align: right;\">\n",
        "      <th></th>\n",
        "      <th>usaf</th>\n",
        "      <th>wban</th>\n",
        "      <th>stname</th>\n",
        "      <th>ctry</th>\n",
        "      <th>fips</th>\n",
        "      <th>state</th>\n",
        "      <th>call</th>\n",
        "      <th>lat</th>\n",
        "      <th>lon</th>\n",
        "      <th>elev</th>\n",
        "      <th>count</th>\n",
        "      <th>max</th>\n",
        "      <th>min</th>\n",
        "      <th>obs</th>\n",
        "      <th>cat</th>\n",
        "    </tr>\n",
        "    <tr>\n",
        "      <th>id</th>\n",
        "      <th></th>\n",
        "      <th></th>\n",
        "      <th></th>\n",
        "      <th></th>\n",
        "      <th></th>\n",
        "      <th></th>\n",
        "      <th></th>\n",
        "      <th></th>\n",
        "      <th></th>\n",
        "      <th></th>\n",
        "      <th></th>\n",
        "      <th></th>\n",
        "      <th></th>\n",
        "      <th></th>\n",
        "      <th></th>\n",
        "    </tr>\n",
        "  </thead>\n",
        "  <tbody>\n",
        "    <tr>\n",
        "      <th>161400-99999</th>\n",
        "      <td> 161400</td>\n",
        "      <td> 99999</td>\n",
        "      <td> BOLOGNA/BORGO PANIG</td>\n",
        "      <td> IY</td>\n",
        "      <td> IT</td>\n",
        "      <td> NaN</td>\n",
        "      <td> LIPE</td>\n",
        "      <td> 44.533</td>\n",
        "      <td> 11.300</td>\n",
        "      <td>  49.0</td>\n",
        "      <td> 42</td>\n",
        "      <td> 2009</td>\n",
        "      <td> 1964</td>\n",
        "      <td> 13853</td>\n",
        "      <td> Cfa</td>\n",
        "    </tr>\n",
        "    <tr>\n",
        "      <th>062650-99999</th>\n",
        "      <td> 062650</td>\n",
        "      <td> 99999</td>\n",
        "      <td>         SOESTERBERG</td>\n",
        "      <td> NL</td>\n",
        "      <td> NL</td>\n",
        "      <td> NaN</td>\n",
        "      <td> EHSB</td>\n",
        "      <td> 52.133</td>\n",
        "      <td>  5.283</td>\n",
        "      <td>  16.0</td>\n",
        "      <td> 52</td>\n",
        "      <td> 2008</td>\n",
        "      <td> 1951</td>\n",
        "      <td> 18578</td>\n",
        "      <td> Cfb</td>\n",
        "    </tr>\n",
        "    <tr>\n",
        "      <th>746710-13806</th>\n",
        "      <td> 746710</td>\n",
        "      <td> 13806</td>\n",
        "      <td>   FORT CAMPBELL AAF</td>\n",
        "      <td> US</td>\n",
        "      <td> US</td>\n",
        "      <td>  KY</td>\n",
        "      <td> KHOP</td>\n",
        "      <td> 36.673</td>\n",
        "      <td>-87.492</td>\n",
        "      <td> 174.7</td>\n",
        "      <td> 51</td>\n",
        "      <td> 1999</td>\n",
        "      <td> 1943</td>\n",
        "      <td> 18197</td>\n",
        "      <td> Cfa</td>\n",
        "    </tr>\n",
        "    <tr>\n",
        "      <th>373950-99999</th>\n",
        "      <td> 373950</td>\n",
        "      <td> 99999</td>\n",
        "      <td>             KUTAISI</td>\n",
        "      <td> RS</td>\n",
        "      <td> GG</td>\n",
        "      <td> NaN</td>\n",
        "      <td>  NaN</td>\n",
        "      <td> 42.267</td>\n",
        "      <td> 42.633</td>\n",
        "      <td> 116.0</td>\n",
        "      <td> 55</td>\n",
        "      <td> 2009</td>\n",
        "      <td> 1937</td>\n",
        "      <td> 15626</td>\n",
        "      <td> Cfa</td>\n",
        "    </tr>\n",
        "    <tr>\n",
        "      <th>161490-99999</th>\n",
        "      <td> 161490</td>\n",
        "      <td> 99999</td>\n",
        "      <td>              RIMINI</td>\n",
        "      <td> IY</td>\n",
        "      <td> IT</td>\n",
        "      <td> NaN</td>\n",
        "      <td> LIPR</td>\n",
        "      <td> 44.033</td>\n",
        "      <td> 12.617</td>\n",
        "      <td>  13.0</td>\n",
        "      <td> 43</td>\n",
        "      <td> 2009</td>\n",
        "      <td> 1945</td>\n",
        "      <td> 14001</td>\n",
        "      <td> Cfa</td>\n",
        "    </tr>\n",
        "  </tbody>\n",
        "</table>\n",
        "</div>"
       ],
       "metadata": {},
       "output_type": "pyout",
       "prompt_number": 17,
       "text": [
        "                usaf   wban               stname ctry fips state  call  \\\n",
        "id                                                                       \n",
        "161400-99999  161400  99999  BOLOGNA/BORGO PANIG   IY   IT   NaN  LIPE   \n",
        "062650-99999  062650  99999          SOESTERBERG   NL   NL   NaN  EHSB   \n",
        "746710-13806  746710  13806    FORT CAMPBELL AAF   US   US    KY  KHOP   \n",
        "373950-99999  373950  99999              KUTAISI   RS   GG   NaN   NaN   \n",
        "161490-99999  161490  99999               RIMINI   IY   IT   NaN  LIPR   \n",
        "\n",
        "                 lat     lon   elev  count   max   min    obs  cat  \n",
        "id                                                                  \n",
        "161400-99999  44.533  11.300   49.0     42  2009  1964  13853  Cfa  \n",
        "062650-99999  52.133   5.283   16.0     52  2008  1951  18578  Cfb  \n",
        "746710-13806  36.673 -87.492  174.7     51  1999  1943  18197  Cfa  \n",
        "373950-99999  42.267  42.633  116.0     55  2009  1937  15626  Cfa  \n",
        "161490-99999  44.033  12.617   13.0     43  2009  1945  14001  Cfa  "
       ]
      }
     ],
     "prompt_number": 17
    },
    {
     "cell_type": "heading",
     "level": 3,
     "metadata": {},
     "source": [
      "Descriptors for the preferred stations data frame"
     ]
    },
    {
     "cell_type": "markdown",
     "metadata": {},
     "source": [
      "**Note**: This is the formal answer for this week assignment, all the previous work was meant to have this dataset ready to work with it. Next weeks I will load the real observations data and do more coding with it but as for now, this is enough for the tasks asked."
     ]
    },
    {
     "cell_type": "markdown",
     "metadata": {},
     "source": [
      "Frenquency table for the selected stations by country and filtering those with more than **20** stations."
     ]
    },
    {
     "cell_type": "code",
     "collapsed": false,
     "input": [
      "scdfc_group_ctry = scdfc.groupby(['ctry']).size()\n",
      "scdfc_group_ctry[scdfc_group_ctry>20]"
     ],
     "language": "python",
     "metadata": {},
     "outputs": [
      {
       "metadata": {},
       "output_type": "pyout",
       "prompt_number": 18,
       "text": [
        "ctry\n",
        "AU       26\n",
        "CI       65\n",
        "DL       43\n",
        "IY       54\n",
        "JP       87\n",
        "PL       35\n",
        "RS       21\n",
        "US      141\n",
        "dtype: int64"
       ]
      }
     ],
     "prompt_number": 18
    },
    {
     "cell_type": "markdown",
     "metadata": {},
     "source": [
      "Frequency table for the climate categories. Some climate areas overlapped, that's why there are three records with two assigned categories."
     ]
    },
    {
     "cell_type": "code",
     "collapsed": false,
     "input": [
      "scdfc_group_cat = scdfc.groupby(['cat']).size()\n",
      "scdfc_group_cat"
     ],
     "language": "python",
     "metadata": {},
     "outputs": [
      {
       "metadata": {},
       "output_type": "pyout",
       "prompt_number": 19,
       "text": [
        "cat\n",
        "Cfa         349\n",
        "Cfa, Csa      1\n",
        "Cfb         210\n",
        "Cfb, Cfa      1\n",
        "Cfc           8\n",
        "Csa         101\n",
        "Csa, Csb      1\n",
        "Csb          22\n",
        "dtype: int64"
       ]
      }
     ],
     "prompt_number": 19
    },
    {
     "cell_type": "markdown",
     "metadata": {},
     "source": [
      "Frequency table for the number of years recorded."
     ]
    },
    {
     "cell_type": "code",
     "collapsed": false,
     "input": [
      "scdfc_group_count = scdfc.groupby(['count']).size()\n",
      "scdfc_group_count"
     ],
     "language": "python",
     "metadata": {},
     "outputs": [
      {
       "metadata": {},
       "output_type": "pyout",
       "prompt_number": 20,
       "text": [
        "count\n",
        "40       33\n",
        "41       42\n",
        "42       43\n",
        "43       49\n",
        "44       49\n",
        "45       44\n",
        "46       63\n",
        "47       42\n",
        "48       56\n",
        "49       38\n",
        "50       28\n",
        "51       24\n",
        "52       22\n",
        "53       14\n",
        "54       12\n",
        "55       17\n",
        "56       17\n",
        "57       14\n",
        "58       14\n",
        "59        8\n",
        "60        9\n",
        "61        8\n",
        "62        6\n",
        "63       12\n",
        "64        7\n",
        "65        5\n",
        "66        4\n",
        "67        4\n",
        "68        5\n",
        "69        2\n",
        "70        1\n",
        "71        1\n",
        "dtype: int64"
       ]
      }
     ],
     "prompt_number": 20
    }
   ],
   "metadata": {}
  }
 ]
}