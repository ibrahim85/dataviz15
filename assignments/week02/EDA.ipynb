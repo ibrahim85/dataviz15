{
 "metadata": {
  "name": "",
  "signature": "sha256:23bd630aaa86a1ad1146d9f36640e7c7cffab31ba471cf5d7fcad681209f4ecc"
 },
 "nbformat": 3,
 "nbformat_minor": 0,
 "worksheets": [
  {
   "cells": [
    {
     "cell_type": "code",
     "collapsed": false,
     "input": [
      "import pandas as pd\n",
      "import numpy"
     ],
     "language": "python",
     "metadata": {},
     "outputs": [],
     "prompt_number": 3
    },
    {
     "cell_type": "code",
     "collapsed": false,
     "input": [
      "stations = pd.read_csv('../../data/ncdc/ish-history.csv')"
     ],
     "language": "python",
     "metadata": {},
     "outputs": [],
     "prompt_number": 4
    },
    {
     "cell_type": "code",
     "collapsed": false,
     "input": [
      "print (len(stations))\n",
      "stations[:1]"
     ],
     "language": "python",
     "metadata": {},
     "outputs": [
      {
       "output_type": "stream",
       "stream": "stdout",
       "text": [
        "30567\n"
       ]
      },
      {
       "html": [
        "<div style=\"max-height:1000px;max-width:1500px;overflow:auto;\">\n",
        "<table border=\"1\" class=\"dataframe\">\n",
        "  <thead>\n",
        "    <tr style=\"text-align: right;\">\n",
        "      <th></th>\n",
        "      <th>USAF</th>\n",
        "      <th>WBAN</th>\n",
        "      <th>STATION NAME</th>\n",
        "      <th>CTRY</th>\n",
        "      <th>FIPS</th>\n",
        "      <th>STATE</th>\n",
        "      <th>CALL</th>\n",
        "      <th>LAT</th>\n",
        "      <th>LON</th>\n",
        "      <th>ELEV(.1M)</th>\n",
        "    </tr>\n",
        "  </thead>\n",
        "  <tbody>\n",
        "    <tr>\n",
        "      <th>0</th>\n",
        "      <td> 0</td>\n",
        "      <td> 99999</td>\n",
        "      <td> NYGGBUKTA GREENLAND- STA</td>\n",
        "      <td> GL</td>\n",
        "      <td> GL</td>\n",
        "      <td> NaN</td>\n",
        "      <td> NaN</td>\n",
        "      <td> 73483</td>\n",
        "      <td> 21567</td>\n",
        "      <td> 30</td>\n",
        "    </tr>\n",
        "  </tbody>\n",
        "</table>\n",
        "</div>"
       ],
       "metadata": {},
       "output_type": "pyout",
       "prompt_number": 11,
       "text": [
        "   USAF   WBAN              STATION NAME CTRY FIPS STATE CALL    LAT    LON  \\\n",
        "0     0  99999  NYGGBUKTA GREENLAND- STA   GL   GL   NaN  NaN  73483  21567   \n",
        "\n",
        "   ELEV(.1M)  \n",
        "0         30  "
       ]
      }
     ],
     "prompt_number": 11
    },
    {
     "cell_type": "code",
     "collapsed": false,
     "input": [
      "from pathlib import Path"
     ],
     "language": "python",
     "metadata": {},
     "outputs": [],
     "prompt_number": 12
    },
    {
     "cell_type": "code",
     "collapsed": false,
     "input": [
      "p = Path('/home/jsanz/media/carto/ncdc/gsod')"
     ],
     "language": "python",
     "metadata": {},
     "outputs": [],
     "prompt_number": 13
    },
    {
     "cell_type": "code",
     "collapsed": false,
     "input": [
      "years = [x for x in p.iterdir() if x.is_dir()]"
     ],
     "language": "python",
     "metadata": {},
     "outputs": [],
     "prompt_number": 15
    },
    {
     "cell_type": "code",
     "collapsed": false,
     "input": [
      "for year in years:\n",
      "    for station in [s for s in year.iterdir() if s.is_file()]:\n",
      "        # insert into the dataframe the pair year / station so I can do later groups and all\n",
      "        station.name.replace('.op','').split('-')\n",
      "\n",
      "# store the dataframe of year/stations for later reuse"
     ],
     "language": "python",
     "metadata": {},
     "outputs": [],
     "prompt_number": 18
    },
    {
     "cell_type": "code",
     "collapsed": false,
     "input": [
      "station = stations[1]"
     ],
     "language": "python",
     "metadata": {},
     "outputs": [],
     "prompt_number": 21
    },
    {
     "cell_type": "code",
     "collapsed": false,
     "input": [],
     "language": "python",
     "metadata": {},
     "outputs": [
      {
       "metadata": {},
       "output_type": "pyout",
       "prompt_number": 25,
       "text": [
        "['357000', '99999', '1969']"
       ]
      }
     ],
     "prompt_number": 25
    },
    {
     "cell_type": "code",
     "collapsed": false,
     "input": [],
     "language": "python",
     "metadata": {},
     "outputs": []
    }
   ],
   "metadata": {}
  }
 ]
}