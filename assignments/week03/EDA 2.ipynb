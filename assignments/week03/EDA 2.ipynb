{
 "metadata": {
  "name": "",
  "signature": "sha256:0eeae2e84d90b0dc96de914e8a80edb2326f626ec44c21110c394bc381a16f68"
 },
 "nbformat": 3,
 "nbformat_minor": 0,
 "worksheets": [
  {
   "cells": [
    {
     "cell_type": "code",
     "collapsed": false,
     "input": [
      "import pandas as pd\n",
      "import numpy as np\n",
      "from pathlib import Path\n",
      "import matplotlib\n",
      "from IPython.display import HTML\n",
      "import requests\n",
      "from datetime import datetime"
     ],
     "language": "python",
     "metadata": {},
     "outputs": [],
     "prompt_number": 1
    },
    {
     "cell_type": "heading",
     "level": 3,
     "metadata": {},
     "source": [
      "Import stations CSV"
     ]
    },
    {
     "cell_type": "markdown",
     "metadata": {},
     "source": [
      "My first step is to find interesting stations and one of the requirements is to find some that have a good time range coverage so I will evaluate the files downloaded."
     ]
    },
    {
     "cell_type": "markdown",
     "metadata": {},
     "source": [
      "Reading the stations coordinates CSV"
     ]
    },
    {
     "cell_type": "code",
     "collapsed": false,
     "input": [
      "stations = pd.read_csv(\n",
      "    '../../data/ncdc/ish-history.csv',\n",
      "    skiprows=1, \n",
      "    names=['usaf','wban','stname','ctry','fips','state','call','lat' ,'lon' ,'elev'],\n",
      "    dtype=object)\n",
      "print (len(stations))\n",
      "stations[:3]"
     ],
     "language": "python",
     "metadata": {},
     "outputs": [
      {
       "output_type": "stream",
       "stream": "stdout",
       "text": [
        "30567\n"
       ]
      },
      {
       "html": [
        "<div style=\"max-height:1000px;max-width:1500px;overflow:auto;\">\n",
        "<table border=\"1\" class=\"dataframe\">\n",
        "  <thead>\n",
        "    <tr style=\"text-align: right;\">\n",
        "      <th></th>\n",
        "      <th>usaf</th>\n",
        "      <th>wban</th>\n",
        "      <th>stname</th>\n",
        "      <th>ctry</th>\n",
        "      <th>fips</th>\n",
        "      <th>state</th>\n",
        "      <th>call</th>\n",
        "      <th>lat</th>\n",
        "      <th>lon</th>\n",
        "      <th>elev</th>\n",
        "    </tr>\n",
        "  </thead>\n",
        "  <tbody>\n",
        "    <tr>\n",
        "      <th>0</th>\n",
        "      <td> 000000</td>\n",
        "      <td> 99999</td>\n",
        "      <td>  NYGGBUKTA GREENLAND- STA</td>\n",
        "      <td> GL</td>\n",
        "      <td> GL</td>\n",
        "      <td> NaN</td>\n",
        "      <td> NaN</td>\n",
        "      <td> +73483</td>\n",
        "      <td> +021567</td>\n",
        "      <td> +00030</td>\n",
        "    </tr>\n",
        "    <tr>\n",
        "      <th>1</th>\n",
        "      <td> 000010</td>\n",
        "      <td> 99999</td>\n",
        "      <td>                 JAN HAYEN</td>\n",
        "      <td> NO</td>\n",
        "      <td> NO</td>\n",
        "      <td> NaN</td>\n",
        "      <td> NaN</td>\n",
        "      <td> +70983</td>\n",
        "      <td> -007700</td>\n",
        "      <td> +00229</td>\n",
        "    </tr>\n",
        "    <tr>\n",
        "      <th>2</th>\n",
        "      <td> 000020</td>\n",
        "      <td> 99999</td>\n",
        "      <td> ISFJORD RADIO SPITZBERGEN</td>\n",
        "      <td> NO</td>\n",
        "      <td> NO</td>\n",
        "      <td> NaN</td>\n",
        "      <td> NaN</td>\n",
        "      <td> +78067</td>\n",
        "      <td> +013633</td>\n",
        "      <td> +00079</td>\n",
        "    </tr>\n",
        "  </tbody>\n",
        "</table>\n",
        "</div>"
       ],
       "metadata": {},
       "output_type": "pyout",
       "prompt_number": 2,
       "text": [
        "     usaf   wban                     stname ctry fips state call     lat  \\\n",
        "0  000000  99999   NYGGBUKTA GREENLAND- STA   GL   GL   NaN  NaN  +73483   \n",
        "1  000010  99999                  JAN HAYEN   NO   NO   NaN  NaN  +70983   \n",
        "2  000020  99999  ISFJORD RADIO SPITZBERGEN   NO   NO   NaN  NaN  +78067   \n",
        "\n",
        "       lon    elev  \n",
        "0  +021567  +00030  \n",
        "1  -007700  +00229  \n",
        "2  +013633  +00079  "
       ]
      }
     ],
     "prompt_number": 2
    },
    {
     "cell_type": "markdown",
     "metadata": {},
     "source": [
      "Get correct coordinates dividing the lat/lon by 1000 and the elevation by 10. Then generate a unique index and a column that specficies if the id is from a USAF station or from WBAN. Finally drop any station that doesn't have a location to use."
     ]
    },
    {
     "cell_type": "code",
     "collapsed": false,
     "input": [
      "stations['lat'] = stations.lat.apply(lambda lat: float(lat)/1000)\n",
      "stations['lon'] = stations.lon.apply(lambda lon: float(lon)/1000)\n",
      "stations['elev'] = stations.elev.apply(lambda e: float(e)/10.0)"
     ],
     "language": "python",
     "metadata": {},
     "outputs": [],
     "prompt_number": 3
    },
    {
     "cell_type": "code",
     "collapsed": false,
     "input": [
      "stations['id']     = stations.apply(lambda row : \"{}-{}\".format(row.usaf,row.wban),axis=1)\n",
      "stations.set_index(['id'],inplace=True)\n",
      "stations.dropna(how='any',subset=['lat','lon'],inplace=True)\n",
      "stations.head()"
     ],
     "language": "python",
     "metadata": {},
     "outputs": [
      {
       "html": [
        "<div style=\"max-height:1000px;max-width:1500px;overflow:auto;\">\n",
        "<table border=\"1\" class=\"dataframe\">\n",
        "  <thead>\n",
        "    <tr style=\"text-align: right;\">\n",
        "      <th></th>\n",
        "      <th>usaf</th>\n",
        "      <th>wban</th>\n",
        "      <th>stname</th>\n",
        "      <th>ctry</th>\n",
        "      <th>fips</th>\n",
        "      <th>state</th>\n",
        "      <th>call</th>\n",
        "      <th>lat</th>\n",
        "      <th>lon</th>\n",
        "      <th>elev</th>\n",
        "    </tr>\n",
        "    <tr>\n",
        "      <th>id</th>\n",
        "      <th></th>\n",
        "      <th></th>\n",
        "      <th></th>\n",
        "      <th></th>\n",
        "      <th></th>\n",
        "      <th></th>\n",
        "      <th></th>\n",
        "      <th></th>\n",
        "      <th></th>\n",
        "      <th></th>\n",
        "    </tr>\n",
        "  </thead>\n",
        "  <tbody>\n",
        "    <tr>\n",
        "      <th>000000-99999</th>\n",
        "      <td> 000000</td>\n",
        "      <td> 99999</td>\n",
        "      <td>  NYGGBUKTA GREENLAND- STA</td>\n",
        "      <td> GL</td>\n",
        "      <td> GL</td>\n",
        "      <td> NaN</td>\n",
        "      <td> NaN</td>\n",
        "      <td> 73.483</td>\n",
        "      <td> 21.567</td>\n",
        "      <td>  3.0</td>\n",
        "    </tr>\n",
        "    <tr>\n",
        "      <th>000010-99999</th>\n",
        "      <td> 000010</td>\n",
        "      <td> 99999</td>\n",
        "      <td>                 JAN HAYEN</td>\n",
        "      <td> NO</td>\n",
        "      <td> NO</td>\n",
        "      <td> NaN</td>\n",
        "      <td> NaN</td>\n",
        "      <td> 70.983</td>\n",
        "      <td> -7.700</td>\n",
        "      <td> 22.9</td>\n",
        "    </tr>\n",
        "    <tr>\n",
        "      <th>000020-99999</th>\n",
        "      <td> 000020</td>\n",
        "      <td> 99999</td>\n",
        "      <td> ISFJORD RADIO SPITZBERGEN</td>\n",
        "      <td> NO</td>\n",
        "      <td> NO</td>\n",
        "      <td> NaN</td>\n",
        "      <td> NaN</td>\n",
        "      <td> 78.067</td>\n",
        "      <td> 13.633</td>\n",
        "      <td>  7.9</td>\n",
        "    </tr>\n",
        "    <tr>\n",
        "      <th>000030-99999</th>\n",
        "      <td> 000030</td>\n",
        "      <td> 99999</td>\n",
        "      <td>      BJORNOYA BARENTS SEA</td>\n",
        "      <td> NO</td>\n",
        "      <td> NO</td>\n",
        "      <td> NaN</td>\n",
        "      <td> NaN</td>\n",
        "      <td> 74.467</td>\n",
        "      <td> 19.283</td>\n",
        "      <td> 29.0</td>\n",
        "    </tr>\n",
        "    <tr>\n",
        "      <th>000040-99999</th>\n",
        "      <td> 000040</td>\n",
        "      <td> 99999</td>\n",
        "      <td>                     VAROO</td>\n",
        "      <td> NO</td>\n",
        "      <td> NO</td>\n",
        "      <td> NaN</td>\n",
        "      <td> NaN</td>\n",
        "      <td> 70.367</td>\n",
        "      <td> 31.100</td>\n",
        "      <td> 11.9</td>\n",
        "    </tr>\n",
        "  </tbody>\n",
        "</table>\n",
        "</div>"
       ],
       "metadata": {},
       "output_type": "pyout",
       "prompt_number": 4,
       "text": [
        "                usaf   wban                     stname ctry fips state call  \\\n",
        "id                                                                            \n",
        "000000-99999  000000  99999   NYGGBUKTA GREENLAND- STA   GL   GL   NaN  NaN   \n",
        "000010-99999  000010  99999                  JAN HAYEN   NO   NO   NaN  NaN   \n",
        "000020-99999  000020  99999  ISFJORD RADIO SPITZBERGEN   NO   NO   NaN  NaN   \n",
        "000030-99999  000030  99999       BJORNOYA BARENTS SEA   NO   NO   NaN  NaN   \n",
        "000040-99999  000040  99999                      VAROO   NO   NO   NaN  NaN   \n",
        "\n",
        "                 lat     lon  elev  \n",
        "id                                  \n",
        "000000-99999  73.483  21.567   3.0  \n",
        "000010-99999  70.983  -7.700  22.9  \n",
        "000020-99999  78.067  13.633   7.9  \n",
        "000030-99999  74.467  19.283  29.0  \n",
        "000040-99999  70.367  31.100  11.9  "
       ]
      }
     ],
     "prompt_number": 4
    },
    {
     "cell_type": "code",
     "collapsed": false,
     "input": [
      "stations.tail()"
     ],
     "language": "python",
     "metadata": {},
     "outputs": [
      {
       "html": [
        "<div style=\"max-height:1000px;max-width:1500px;overflow:auto;\">\n",
        "<table border=\"1\" class=\"dataframe\">\n",
        "  <thead>\n",
        "    <tr style=\"text-align: right;\">\n",
        "      <th></th>\n",
        "      <th>usaf</th>\n",
        "      <th>wban</th>\n",
        "      <th>stname</th>\n",
        "      <th>ctry</th>\n",
        "      <th>fips</th>\n",
        "      <th>state</th>\n",
        "      <th>call</th>\n",
        "      <th>lat</th>\n",
        "      <th>lon</th>\n",
        "      <th>elev</th>\n",
        "    </tr>\n",
        "    <tr>\n",
        "      <th>id</th>\n",
        "      <th></th>\n",
        "      <th></th>\n",
        "      <th></th>\n",
        "      <th></th>\n",
        "      <th></th>\n",
        "      <th></th>\n",
        "      <th></th>\n",
        "      <th></th>\n",
        "      <th></th>\n",
        "      <th></th>\n",
        "    </tr>\n",
        "  </thead>\n",
        "  <tbody>\n",
        "    <tr>\n",
        "      <th>999999-94910</th>\n",
        "      <td> 999999</td>\n",
        "      <td> 94910</td>\n",
        "      <td>       WATERLOO MUNICIPAL AP</td>\n",
        "      <td> US</td>\n",
        "      <td> US</td>\n",
        "      <td> IA</td>\n",
        "      <td> KALO</td>\n",
        "      <td> 42.554</td>\n",
        "      <td>-92.401</td>\n",
        "      <td> 267.6</td>\n",
        "    </tr>\n",
        "    <tr>\n",
        "      <th>999999-94925</th>\n",
        "      <td> 999999</td>\n",
        "      <td> 94925</td>\n",
        "      <td>              GRAND FORKS AF</td>\n",
        "      <td> US</td>\n",
        "      <td> US</td>\n",
        "      <td> ND</td>\n",
        "      <td> KRDR</td>\n",
        "      <td> 47.961</td>\n",
        "      <td>-97.401</td>\n",
        "      <td> 277.7</td>\n",
        "    </tr>\n",
        "    <tr>\n",
        "      <th>999999-94931</th>\n",
        "      <td> 999999</td>\n",
        "      <td> 94931</td>\n",
        "      <td> HIBBING CHISHOLM-HIBBING AP</td>\n",
        "      <td> US</td>\n",
        "      <td> US</td>\n",
        "      <td> MN</td>\n",
        "      <td> KHIB</td>\n",
        "      <td> 47.387</td>\n",
        "      <td>-92.839</td>\n",
        "      <td> 413.6</td>\n",
        "    </tr>\n",
        "    <tr>\n",
        "      <th>999999-94995</th>\n",
        "      <td> 999999</td>\n",
        "      <td> 94995</td>\n",
        "      <td>        CRN NE LINCOLN 8 ENE</td>\n",
        "      <td> US</td>\n",
        "      <td> US</td>\n",
        "      <td> NE</td>\n",
        "      <td> C52A</td>\n",
        "      <td> 40.848</td>\n",
        "      <td>-96.565</td>\n",
        "      <td> 362.4</td>\n",
        "    </tr>\n",
        "    <tr>\n",
        "      <th>999999-94996</th>\n",
        "      <td> 999999</td>\n",
        "      <td> 94996</td>\n",
        "      <td>        CRN NE LINCOLN 11 SW</td>\n",
        "      <td> US</td>\n",
        "      <td> US</td>\n",
        "      <td> NE</td>\n",
        "      <td> B3BA</td>\n",
        "      <td> 40.695</td>\n",
        "      <td>-96.854</td>\n",
        "      <td> 418.2</td>\n",
        "    </tr>\n",
        "  </tbody>\n",
        "</table>\n",
        "</div>"
       ],
       "metadata": {},
       "output_type": "pyout",
       "prompt_number": 5,
       "text": [
        "                usaf   wban                       stname ctry fips state  \\\n",
        "id                                                                         \n",
        "999999-94910  999999  94910        WATERLOO MUNICIPAL AP   US   US    IA   \n",
        "999999-94925  999999  94925               GRAND FORKS AF   US   US    ND   \n",
        "999999-94931  999999  94931  HIBBING CHISHOLM-HIBBING AP   US   US    MN   \n",
        "999999-94995  999999  94995         CRN NE LINCOLN 8 ENE   US   US    NE   \n",
        "999999-94996  999999  94996         CRN NE LINCOLN 11 SW   US   US    NE   \n",
        "\n",
        "              call     lat     lon   elev  \n",
        "id                                         \n",
        "999999-94910  KALO  42.554 -92.401  267.6  \n",
        "999999-94925  KRDR  47.961 -97.401  277.7  \n",
        "999999-94931  KHIB  47.387 -92.839  413.6  \n",
        "999999-94995  C52A  40.848 -96.565  362.4  \n",
        "999999-94996  B3BA  40.695 -96.854  418.2  "
       ]
      }
     ],
     "prompt_number": 5
    },
    {
     "cell_type": "heading",
     "level": 3,
     "metadata": {},
     "source": [
      "Read CSV of observations"
     ]
    },
    {
     "cell_type": "markdown",
     "metadata": {},
     "source": [
      "Instantiate the path where the NCDC data has been downloaded"
     ]
    },
    {
     "cell_type": "code",
     "collapsed": false,
     "input": [
      "p = Path('../../data/ncdc')"
     ],
     "language": "python",
     "metadata": {},
     "outputs": [],
     "prompt_number": 6
    },
    {
     "cell_type": "markdown",
     "metadata": {},
     "source": [
      "Check if we have already the stations CSV or generate it from the files. To generate the CSV the name file will be inspected but also a full read of the file will be performed in order to count the number of observations on every station."
     ]
    },
    {
     "cell_type": "code",
     "collapsed": false,
     "input": [
      "gsodCSV = p.joinpath('gsod.csv')\n",
      "if not gsodCSV.exists():\n",
      "    ops = p.joinpath('raw').joinpath('gsod').glob('**/*.op')\n",
      "    agsod = []\n",
      "\n",
      "    for op in ops:\n",
      "        try:\n",
      "            data = op.name.replace('.op','').split('-')\n",
      "            data.append(sum(1 for line in op.open( encoding='utf8' ))-1)\n",
      "            agsod.append(data)\n",
      "        except UnicodeDecodeError:\n",
      "          print (op.absolute())\n",
      "    dfGsod = pd.DataFrame(data = agsod, columns=['usaf','wban','year','obs'])\n",
      "    dfGsod['id'] = dfGsod.apply(lambda row: \"{}-{}\".format(row.usaf,row.wban) ,axis=1)\n",
      "    dfGsod = dfGsod.set_index(['id'])\n",
      "    dfGsod[['year','obs']].to_csv(str(gsodCSV))\n",
      "\n"
     ],
     "language": "python",
     "metadata": {},
     "outputs": [],
     "prompt_number": 7
    },
    {
     "cell_type": "code",
     "collapsed": false,
     "input": [
      "print ('Reading existing stations per year CSV')\n",
      "dfGsod = pd.read_csv(str(gsodCSV),index_col=['id'])\n",
      "print (\"{:,} station files\".format(len(dfGsod)))\n",
      "print (\"{:,} observations\".format(dfGsod.obs.sum()))\n",
      "dfGsod.head()"
     ],
     "language": "python",
     "metadata": {},
     "outputs": [
      {
       "output_type": "stream",
       "stream": "stdout",
       "text": [
        "Reading existing stations per year CSV\n",
        "404,762 station files"
       ]
      },
      {
       "output_type": "stream",
       "stream": "stdout",
       "text": [
        "\n",
        "111,648,951 observations\n"
       ]
      },
      {
       "html": [
        "<div style=\"max-height:1000px;max-width:1500px;overflow:auto;\">\n",
        "<table border=\"1\" class=\"dataframe\">\n",
        "  <thead>\n",
        "    <tr style=\"text-align: right;\">\n",
        "      <th></th>\n",
        "      <th>year</th>\n",
        "      <th>obs</th>\n",
        "    </tr>\n",
        "    <tr>\n",
        "      <th>id</th>\n",
        "      <th></th>\n",
        "      <th></th>\n",
        "    </tr>\n",
        "  </thead>\n",
        "  <tbody>\n",
        "    <tr>\n",
        "      <th>033110-99999</th>\n",
        "      <td> 1931</td>\n",
        "      <td> 357</td>\n",
        "    </tr>\n",
        "    <tr>\n",
        "      <th>105130-99999</th>\n",
        "      <td> 1931</td>\n",
        "      <td> 196</td>\n",
        "    </tr>\n",
        "    <tr>\n",
        "      <th>103610-99999</th>\n",
        "      <td> 1931</td>\n",
        "      <td>   1</td>\n",
        "    </tr>\n",
        "    <tr>\n",
        "      <th>030050-99999</th>\n",
        "      <td> 1931</td>\n",
        "      <td> 365</td>\n",
        "    </tr>\n",
        "    <tr>\n",
        "      <th>122050-99999</th>\n",
        "      <td> 1931</td>\n",
        "      <td> 359</td>\n",
        "    </tr>\n",
        "  </tbody>\n",
        "</table>\n",
        "</div>"
       ],
       "metadata": {},
       "output_type": "pyout",
       "prompt_number": 8,
       "text": [
        "              year  obs\n",
        "id                     \n",
        "033110-99999  1931  357\n",
        "105130-99999  1931  196\n",
        "103610-99999  1931    1\n",
        "030050-99999  1931  365\n",
        "122050-99999  1931  359"
       ]
      }
     ],
     "prompt_number": 8
    },
    {
     "cell_type": "heading",
     "level": 3,
     "metadata": {},
     "source": [
      "Year statistics per station"
     ]
    },
    {
     "cell_type": "markdown",
     "metadata": {},
     "source": [
      "Now study this dataframe, grouping by id and see the total years recorded, max and min"
     ]
    },
    {
     "cell_type": "code",
     "collapsed": false,
     "input": [
      "year_groups = dfGsod[['year']].groupby(level=0)\n",
      "year_count  = year_groups.count()\n",
      "year_max    = year_groups.max()\n",
      "year_min    = year_groups.min()\n",
      "\n",
      "years = pd.concat([year_count,year_max,year_min],axis=1)\n",
      "years.columns = ['count','max','min']\n",
      "years.head()"
     ],
     "language": "python",
     "metadata": {},
     "outputs": [
      {
       "html": [
        "<div style=\"max-height:1000px;max-width:1500px;overflow:auto;\">\n",
        "<table border=\"1\" class=\"dataframe\">\n",
        "  <thead>\n",
        "    <tr style=\"text-align: right;\">\n",
        "      <th></th>\n",
        "      <th>count</th>\n",
        "      <th>max</th>\n",
        "      <th>min</th>\n",
        "    </tr>\n",
        "    <tr>\n",
        "      <th>id</th>\n",
        "      <th></th>\n",
        "      <th></th>\n",
        "      <th></th>\n",
        "    </tr>\n",
        "  </thead>\n",
        "  <tbody>\n",
        "    <tr>\n",
        "      <th>008209-99999</th>\n",
        "      <td>  1</td>\n",
        "      <td> 2009</td>\n",
        "      <td> 2009</td>\n",
        "    </tr>\n",
        "    <tr>\n",
        "      <th>008210-99999</th>\n",
        "      <td>  1</td>\n",
        "      <td> 2009</td>\n",
        "      <td> 2009</td>\n",
        "    </tr>\n",
        "    <tr>\n",
        "      <th>010010-99999</th>\n",
        "      <td> 41</td>\n",
        "      <td> 2009</td>\n",
        "      <td> 1955</td>\n",
        "    </tr>\n",
        "    <tr>\n",
        "      <th>010013-99999</th>\n",
        "      <td>  3</td>\n",
        "      <td> 1988</td>\n",
        "      <td> 1986</td>\n",
        "    </tr>\n",
        "    <tr>\n",
        "      <th>010014-99999</th>\n",
        "      <td> 24</td>\n",
        "      <td> 2009</td>\n",
        "      <td> 1986</td>\n",
        "    </tr>\n",
        "  </tbody>\n",
        "</table>\n",
        "</div>"
       ],
       "metadata": {},
       "output_type": "pyout",
       "prompt_number": 9,
       "text": [
        "              count   max   min\n",
        "id                             \n",
        "008209-99999      1  2009  2009\n",
        "008210-99999      1  2009  2009\n",
        "010010-99999     41  2009  1955\n",
        "010013-99999      3  1988  1986\n",
        "010014-99999     24  2009  1986"
       ]
      }
     ],
     "prompt_number": 9
    },
    {
     "cell_type": "heading",
     "level": 3,
     "metadata": {},
     "source": [
      "Count observations per station"
     ]
    },
    {
     "cell_type": "code",
     "collapsed": false,
     "input": [
      "obs_groups = dfGsod[['obs']].groupby(level=0)\n",
      "obs_count = obs_groups.sum()\n",
      "obs_count.head()"
     ],
     "language": "python",
     "metadata": {},
     "outputs": [
      {
       "html": [
        "<div style=\"max-height:1000px;max-width:1500px;overflow:auto;\">\n",
        "<table border=\"1\" class=\"dataframe\">\n",
        "  <thead>\n",
        "    <tr style=\"text-align: right;\">\n",
        "      <th></th>\n",
        "      <th>obs</th>\n",
        "    </tr>\n",
        "    <tr>\n",
        "      <th>id</th>\n",
        "      <th></th>\n",
        "    </tr>\n",
        "  </thead>\n",
        "  <tbody>\n",
        "    <tr>\n",
        "      <th>008209-99999</th>\n",
        "      <td>    27</td>\n",
        "    </tr>\n",
        "    <tr>\n",
        "      <th>008210-99999</th>\n",
        "      <td>    32</td>\n",
        "    </tr>\n",
        "    <tr>\n",
        "      <th>010010-99999</th>\n",
        "      <td> 14180</td>\n",
        "    </tr>\n",
        "    <tr>\n",
        "      <th>010013-99999</th>\n",
        "      <td>   335</td>\n",
        "    </tr>\n",
        "    <tr>\n",
        "      <th>010014-99999</th>\n",
        "      <td>  6300</td>\n",
        "    </tr>\n",
        "  </tbody>\n",
        "</table>\n",
        "</div>"
       ],
       "metadata": {},
       "output_type": "pyout",
       "prompt_number": 10,
       "text": [
        "                obs\n",
        "id                 \n",
        "008209-99999     27\n",
        "008210-99999     32\n",
        "010010-99999  14180\n",
        "010013-99999    335\n",
        "010014-99999   6300"
       ]
      }
     ],
     "prompt_number": 10
    },
    {
     "cell_type": "heading",
     "level": 3,
     "metadata": {},
     "source": [
      "Join stations and observations statistics"
     ]
    },
    {
     "cell_type": "markdown",
     "metadata": {},
     "source": [
      "Now we can check if the indexes of both data frames are unique and then join them to retreive only the stations with observations"
     ]
    },
    {
     "cell_type": "code",
     "collapsed": false,
     "input": [
      "stations.index.is_unique and years.index.is_unique and obs_count.index.is_unique"
     ],
     "language": "python",
     "metadata": {},
     "outputs": [
      {
       "metadata": {},
       "output_type": "pyout",
       "prompt_number": 11,
       "text": [
        "True"
       ]
      }
     ],
     "prompt_number": 11
    },
    {
     "cell_type": "code",
     "collapsed": false,
     "input": [
      "scdf = pd.concat([stations,years,obs_count],axis=1,join='inner')\n",
      "scdf.head()"
     ],
     "language": "python",
     "metadata": {},
     "outputs": [
      {
       "html": [
        "<div style=\"max-height:1000px;max-width:1500px;overflow:auto;\">\n",
        "<table border=\"1\" class=\"dataframe\">\n",
        "  <thead>\n",
        "    <tr style=\"text-align: right;\">\n",
        "      <th></th>\n",
        "      <th>usaf</th>\n",
        "      <th>wban</th>\n",
        "      <th>stname</th>\n",
        "      <th>ctry</th>\n",
        "      <th>fips</th>\n",
        "      <th>state</th>\n",
        "      <th>call</th>\n",
        "      <th>lat</th>\n",
        "      <th>lon</th>\n",
        "      <th>elev</th>\n",
        "      <th>count</th>\n",
        "      <th>max</th>\n",
        "      <th>min</th>\n",
        "      <th>obs</th>\n",
        "    </tr>\n",
        "    <tr>\n",
        "      <th>id</th>\n",
        "      <th></th>\n",
        "      <th></th>\n",
        "      <th></th>\n",
        "      <th></th>\n",
        "      <th></th>\n",
        "      <th></th>\n",
        "      <th></th>\n",
        "      <th></th>\n",
        "      <th></th>\n",
        "      <th></th>\n",
        "      <th></th>\n",
        "      <th></th>\n",
        "      <th></th>\n",
        "      <th></th>\n",
        "    </tr>\n",
        "  </thead>\n",
        "  <tbody>\n",
        "    <tr>\n",
        "      <th>010010-99999</th>\n",
        "      <td> 010010</td>\n",
        "      <td> 99999</td>\n",
        "      <td>   JAN MAYEN</td>\n",
        "      <td> NO</td>\n",
        "      <td> NO</td>\n",
        "      <td> NaN</td>\n",
        "      <td> ENJA</td>\n",
        "      <td> 70.933</td>\n",
        "      <td> -8.667</td>\n",
        "      <td>   9</td>\n",
        "      <td> 41</td>\n",
        "      <td> 2009</td>\n",
        "      <td> 1955</td>\n",
        "      <td> 14180</td>\n",
        "    </tr>\n",
        "    <tr>\n",
        "      <th>010014-99999</th>\n",
        "      <td> 010014</td>\n",
        "      <td> 99999</td>\n",
        "      <td> SOERSTOKKEN</td>\n",
        "      <td> NO</td>\n",
        "      <td> NO</td>\n",
        "      <td> NaN</td>\n",
        "      <td> ENSO</td>\n",
        "      <td> 59.783</td>\n",
        "      <td>  5.350</td>\n",
        "      <td>  49</td>\n",
        "      <td> 24</td>\n",
        "      <td> 2009</td>\n",
        "      <td> 1986</td>\n",
        "      <td>  6300</td>\n",
        "    </tr>\n",
        "    <tr>\n",
        "      <th>010015-99999</th>\n",
        "      <td> 010015</td>\n",
        "      <td> 99999</td>\n",
        "      <td>  BRINGELAND</td>\n",
        "      <td> NO</td>\n",
        "      <td> NO</td>\n",
        "      <td> NaN</td>\n",
        "      <td> ENBL</td>\n",
        "      <td> 61.383</td>\n",
        "      <td>  5.867</td>\n",
        "      <td> 327</td>\n",
        "      <td> 23</td>\n",
        "      <td> 2009</td>\n",
        "      <td> 1987</td>\n",
        "      <td>  8030</td>\n",
        "    </tr>\n",
        "    <tr>\n",
        "      <th>010016-99999</th>\n",
        "      <td> 010016</td>\n",
        "      <td> 99999</td>\n",
        "      <td> RORVIK/RYUM</td>\n",
        "      <td> NO</td>\n",
        "      <td> NO</td>\n",
        "      <td> NaN</td>\n",
        "      <td>  NaN</td>\n",
        "      <td> 64.850</td>\n",
        "      <td> 11.233</td>\n",
        "      <td>  14</td>\n",
        "      <td>  5</td>\n",
        "      <td> 1991</td>\n",
        "      <td> 1987</td>\n",
        "      <td>  1555</td>\n",
        "    </tr>\n",
        "    <tr>\n",
        "      <th>010017-99999</th>\n",
        "      <td> 010017</td>\n",
        "      <td> 99999</td>\n",
        "      <td>       FRIGG</td>\n",
        "      <td> NO</td>\n",
        "      <td> NO</td>\n",
        "      <td> NaN</td>\n",
        "      <td> ENFR</td>\n",
        "      <td> 59.933</td>\n",
        "      <td>  2.417</td>\n",
        "      <td>  48</td>\n",
        "      <td> 18</td>\n",
        "      <td> 2005</td>\n",
        "      <td> 1988</td>\n",
        "      <td>  4086</td>\n",
        "    </tr>\n",
        "  </tbody>\n",
        "</table>\n",
        "</div>"
       ],
       "metadata": {},
       "output_type": "pyout",
       "prompt_number": 12,
       "text": [
        "                usaf   wban       stname ctry fips state  call     lat  \\\n",
        "id                                                                       \n",
        "010010-99999  010010  99999    JAN MAYEN   NO   NO   NaN  ENJA  70.933   \n",
        "010014-99999  010014  99999  SOERSTOKKEN   NO   NO   NaN  ENSO  59.783   \n",
        "010015-99999  010015  99999   BRINGELAND   NO   NO   NaN  ENBL  61.383   \n",
        "010016-99999  010016  99999  RORVIK/RYUM   NO   NO   NaN   NaN  64.850   \n",
        "010017-99999  010017  99999        FRIGG   NO   NO   NaN  ENFR  59.933   \n",
        "\n",
        "                 lon  elev  count   max   min    obs  \n",
        "id                                                    \n",
        "010010-99999  -8.667     9     41  2009  1955  14180  \n",
        "010014-99999   5.350    49     24  2009  1986   6300  \n",
        "010015-99999   5.867   327     23  2009  1987   8030  \n",
        "010016-99999  11.233    14      5  1991  1987   1555  \n",
        "010017-99999   2.417    48     18  2005  1988   4086  "
       ]
      }
     ],
     "prompt_number": 12
    },
    {
     "cell_type": "markdown",
     "metadata": {},
     "source": [
      "Finally we can study this dataset and filter the appropriate stations for our study on this first iteration"
     ]
    },
    {
     "cell_type": "code",
     "collapsed": false,
     "input": [
      "scdf.to_csv('stations.csv')"
     ],
     "language": "python",
     "metadata": {},
     "outputs": [],
     "prompt_number": 13
    },
    {
     "cell_type": "heading",
     "level": 3,
     "metadata": {},
     "source": [
      "Get preferred stations"
     ]
    },
    {
     "cell_type": "markdown",
     "metadata": {},
     "source": [
      "Next step is done at [CartoDB](http://cartodb.com) an analysis and mapping service. From the exported `stations.csv`, I've created a map of the 2 stations with more years of observations for every [K\u00f6ppen-Geiger](http://koeppen-geiger.vu-wien.ac.at/shifts.htm) classification. The map is interactive, you can zoom in and click on stations to check it's attributions."
     ]
    },
    {
     "cell_type": "code",
     "collapsed": false,
     "input": [
      "HTML('<iframe width=\"100%\" height=\"520\" frameborder=\"0\" src=\"https://team.cartodb.com/u/jsanz/viz/c9d103fe-6ab1-11e5-b45b-0e674067d321/embed_map\" allowfullscreen webkitallowfullscreen mozallowfullscreen oallowfullscreen msallowfullscreen></iframe>')"
     ],
     "language": "python",
     "metadata": {},
     "outputs": [
      {
       "html": [
        "<iframe width=\"100%\" height=\"520\" frameborder=\"0\" src=\"https://team.cartodb.com/u/jsanz/viz/c9d103fe-6ab1-11e5-b45b-0e674067d321/embed_map\" allowfullscreen webkitallowfullscreen mozallowfullscreen oallowfullscreen msallowfullscreen></iframe>"
       ],
       "metadata": {},
       "output_type": "pyout",
       "prompt_number": 14,
       "text": [
        "<IPython.core.display.HTML at 0x7fb83e361860>"
       ]
      }
     ],
     "prompt_number": 14
    },
    {
     "cell_type": "markdown",
     "metadata": {},
     "source": [
      "To get those stations back to this notebook I will use CartoDB SQL API so I will execute this SQL using the CSV format so it can be read directly into a Pandas DataFrame.\n",
      "\n",
      "```\n",
      "WITH ranked AS (\n",
      "  SELECT \n",
      "  s.id, r.gridcode,\n",
      "  rank() over (partition by r.gridcode order by s.count desc, s.elev asc) pos\n",
      "  FROM stations s \n",
      "  JOIN climate_regions r ON ST_Intersects(s.the_geom,r.the_geom)\n",
      "), filtered as (\n",
      "  SELECT \n",
      "  r.id,k.koppen,\n",
      "  rank() over (partition by r.id order by k.koppen) pos\n",
      "  FROM ranked r\n",
      "  JOIN koppen k ON r.gridcode = k.gridcode\n",
      "  WHERE pos < 3\n",
      ") \n",
      "SELECT id,koppen FROM filtered WHERE POS = 1\n",
      "```"
     ]
    },
    {
     "cell_type": "code",
     "collapsed": false,
     "input": [
      "query = 'https://jsanz.cartodb.com/api/v1/sql?format=csv&q=WITH+ranked+AS+(%0A++SELECT+%0A++s.id,+r.gridcode,%0A++rank()+over+(partition+by+r.gridcode+order+by+s.count+desc,+s.elev+asc)+pos%0A++FROM+stations+s+%0A++JOIN+climate_regions+r+ON+ST_Intersects(s.the_geom,r.the_geom)%0A),+filtered+as+(%0A++SELECT+%0A++r.id,k.koppen%0A++,rank()+over+(partition+by+r.id+order+by+k.koppen)+pos%0A++FROM+ranked+r%0A++JOIN+koppen+k+ON+r.gridcode+%3D+k.gridcode%0A++WHERE+pos+%3C+3+%0A)+%0ASELECT+id,koppen%0AFROM+filtered+WHERE+POS+%3D+1'\n",
      "selections = pd.read_csv(query,index_col=['id'])"
     ],
     "language": "python",
     "metadata": {},
     "outputs": [],
     "prompt_number": 15
    },
    {
     "cell_type": "markdown",
     "metadata": {},
     "source": [
      "Check if the index of the imported dataframe is unique and then join it with our stations dataset. This join will keep only data on both data frames using the parameter `join='inner'`."
     ]
    },
    {
     "cell_type": "code",
     "collapsed": false,
     "input": [
      "selections.index.is_unique"
     ],
     "language": "python",
     "metadata": {},
     "outputs": [
      {
       "metadata": {},
       "output_type": "pyout",
       "prompt_number": 16,
       "text": [
        "True"
       ]
      }
     ],
     "prompt_number": 16
    },
    {
     "cell_type": "code",
     "collapsed": false,
     "input": [
      "scdfc = pd.concat([scdf,selections],axis=1,join='inner')"
     ],
     "language": "python",
     "metadata": {},
     "outputs": [],
     "prompt_number": 17
    },
    {
     "cell_type": "heading",
     "level": 3,
     "metadata": {},
     "source": [
      "Getting the observations for the selected stations"
     ]
    },
    {
     "cell_type": "markdown",
     "metadata": {},
     "source": [
      "Filter the observations dataframe (11M records) by the selected stations and generate the files to read from the observations folder"
     ]
    },
    {
     "cell_type": "code",
     "collapsed": false,
     "input": [
      "files_to_read = pd.merge(left=dfGsod,right=scdfc,left_index=True,right_index=True,)[['year']]\n",
      "files_to_read['id'] = files_to_read.index\n",
      "files_to_read['path'] = files_to_read.apply(lambda row: Path('../../data/ncdc/raw/gsod').joinpath(\"{0}/{1}-{0}.op\".format(row.year,row.id)),axis=1)\n",
      "print (\"{} files to read\".format(len(files_to_read)))"
     ],
     "language": "python",
     "metadata": {},
     "outputs": [
      {
       "output_type": "stream",
       "stream": "stdout",
       "text": [
        "3634 files to read\n"
       ]
      }
     ],
     "prompt_number": 18
    },
    {
     "cell_type": "markdown",
     "metadata": {},
     "source": [
      "Read the files defined previously and store the results on a new big data frame and CSV adding the *K\u00f6ppen* classification"
     ]
    },
    {
     "cell_type": "code",
     "collapsed": false,
     "input": [
      "def getId(stn,wban):\n",
      "    try:\n",
      "        istn = int(stn)\n",
      "        iwban = int(wban)\n",
      "        return \"{:0>6}-{:0>5}\".format(istn,iwban)\n",
      "    except ValueError:\n",
      "        print(\"{}/{}\".format(stn,wban))\n",
      "        \n",
      "def getStationByStnWban(stn,wban):\n",
      "    try:\n",
      "        koppen = scdfc.loc[getId(stn,wban)].koppen\n",
      "    except KeyError:\n",
      "        koppen = None\n",
      "    return koppen        "
     ],
     "language": "python",
     "metadata": {},
     "outputs": [],
     "prompt_number": 19
    },
    {
     "cell_type": "code",
     "collapsed": false,
     "input": [
      "observationsCSV = p.joinpath('observations.csv')\n",
      "if not observationsCSV.exists():\n",
      "    i = 0\n",
      "    acc = 0\n",
      "    for index,row in files_to_read.iterrows():\n",
      "        path = row['path']\n",
      "        if path.exists():\n",
      "            dfObsTemp = pd.read_fwf(\n",
      "                    str(path),\n",
      "                    colspecs=[(0,7),(7,13),(14,18),(18,22),(25,30),(31,33),(35,41),\n",
      "                              (42,44),(46,52),(53,55),(57,63),(64,66),(68,73),(74,76),\n",
      "                              (78,84),(84,86),(88,93),(95,100),(102,108),(108,109),\n",
      "                              (110,116),(116,117),(118,123),(123,124),(125,130),(132,138)],\n",
      "                    skiprows=1,\n",
      "                    names=['stn','wban','year','monthday','temp','temp_count',\n",
      "                           'dewp','dewp_count','slp','slp_count','stp','stp_count',\n",
      "                           'visib','visib_count','wsdp','wsdp_count','mxspd',\n",
      "                           'gust','max','max_flag','min','min_flag','prcp','prc_flag','sndp','frshtt']\n",
      "                    )\n",
      "            dfObsTemp['koppen'] = dfObsTemp.apply(lambda row: getStationByStnWban(row.stn,row.wban),axis=1)\n",
      "            dfObsTemp.to_csv(str(observationsCSV),mode='a')\n",
      "\n",
      "            i += 1\n",
      "            acc += len (dfObsTemp)\n",
      "\n",
      "            if i % 1000 == 0:\n",
      "                print(\"{:>8} obs\".format(acc))"
     ],
     "language": "python",
     "metadata": {},
     "outputs": [
      {
       "output_type": "stream",
       "stream": "stdout",
       "text": [
        "  315976 obs\n",
        "  630799 obs"
       ]
      },
      {
       "output_type": "stream",
       "stream": "stdout",
       "text": [
        "\n",
        "  968563 obs"
       ]
      },
      {
       "output_type": "stream",
       "stream": "stdout",
       "text": [
        "\n"
       ]
      }
     ],
     "prompt_number": 20
    },
    {
     "cell_type": "code",
     "collapsed": false,
     "input": [
      "print ('Reading observations CSV')\n",
      "dfObs = pd.read_csv(str(observationsCSV),index_col=0)\n",
      "dfObs = dfObs[(dfObs.stn != 'stn')]\n",
      "print (\"{:,} observations\".format(len(dfObs)))\n",
      "dfObs.head()"
     ],
     "language": "python",
     "metadata": {},
     "outputs": [
      {
       "output_type": "stream",
       "stream": "stdout",
       "text": [
        "Reading observations CSV\n",
        "1,190,166 observations"
       ]
      },
      {
       "output_type": "stream",
       "stream": "stdout",
       "text": [
        "\n"
       ]
      },
      {
       "html": [
        "<div style=\"max-height:1000px;max-width:1500px;overflow:auto;\">\n",
        "<table border=\"1\" class=\"dataframe\">\n",
        "  <thead>\n",
        "    <tr style=\"text-align: right;\">\n",
        "      <th></th>\n",
        "      <th>stn</th>\n",
        "      <th>wban</th>\n",
        "      <th>year</th>\n",
        "      <th>monthday</th>\n",
        "      <th>temp</th>\n",
        "      <th>temp_count</th>\n",
        "      <th>dewp</th>\n",
        "      <th>dewp_count</th>\n",
        "      <th>slp</th>\n",
        "      <th>slp_count</th>\n",
        "      <th>...</th>\n",
        "      <th>gust</th>\n",
        "      <th>max</th>\n",
        "      <th>max_flag</th>\n",
        "      <th>min</th>\n",
        "      <th>min_flag</th>\n",
        "      <th>prcp</th>\n",
        "      <th>prc_flag</th>\n",
        "      <th>sndp</th>\n",
        "      <th>frshtt</th>\n",
        "      <th>koppen</th>\n",
        "    </tr>\n",
        "  </thead>\n",
        "  <tbody>\n",
        "    <tr>\n",
        "      <th>0</th>\n",
        "      <td> 40180</td>\n",
        "      <td> 16201</td>\n",
        "      <td> 1991</td>\n",
        "      <td> 101</td>\n",
        "      <td> 30.4</td>\n",
        "      <td> 24</td>\n",
        "      <td> 22.6</td>\n",
        "      <td> 24</td>\n",
        "      <td> 977.1</td>\n",
        "      <td> 16</td>\n",
        "      <td>...</td>\n",
        "      <td> 999.9</td>\n",
        "      <td> 34.5</td>\n",
        "      <td>   *</td>\n",
        "      <td> 20.1</td>\n",
        "      <td> NaN</td>\n",
        "      <td> 0.0</td>\n",
        "      <td> F</td>\n",
        "      <td> 999.9</td>\n",
        "      <td> 11000</td>\n",
        "      <td> Cfc</td>\n",
        "    </tr>\n",
        "    <tr>\n",
        "      <th>1</th>\n",
        "      <td> 40180</td>\n",
        "      <td> 16201</td>\n",
        "      <td> 1991</td>\n",
        "      <td> 102</td>\n",
        "      <td> 36.8</td>\n",
        "      <td> 23</td>\n",
        "      <td> 28.6</td>\n",
        "      <td> 23</td>\n",
        "      <td> 961.9</td>\n",
        "      <td>  8</td>\n",
        "      <td>...</td>\n",
        "      <td>  39.0</td>\n",
        "      <td> 38.1</td>\n",
        "      <td> NaN</td>\n",
        "      <td> 30.9</td>\n",
        "      <td> NaN</td>\n",
        "      <td> 0.0</td>\n",
        "      <td> F</td>\n",
        "      <td> 999.9</td>\n",
        "      <td> 11000</td>\n",
        "      <td> Cfc</td>\n",
        "    </tr>\n",
        "    <tr>\n",
        "      <th>2</th>\n",
        "      <td> 40180</td>\n",
        "      <td> 16201</td>\n",
        "      <td> 1991</td>\n",
        "      <td> 103</td>\n",
        "      <td> 35.9</td>\n",
        "      <td> 24</td>\n",
        "      <td> 27.6</td>\n",
        "      <td> 24</td>\n",
        "      <td> 965.0</td>\n",
        "      <td>  7</td>\n",
        "      <td>...</td>\n",
        "      <td>  49.9</td>\n",
        "      <td> 37.4</td>\n",
        "      <td> NaN</td>\n",
        "      <td> 33.8</td>\n",
        "      <td>   *</td>\n",
        "      <td> 0.0</td>\n",
        "      <td> E</td>\n",
        "      <td> 999.9</td>\n",
        "      <td>     0</td>\n",
        "      <td> Cfc</td>\n",
        "    </tr>\n",
        "    <tr>\n",
        "      <th>3</th>\n",
        "      <td> 40180</td>\n",
        "      <td> 16201</td>\n",
        "      <td> 1991</td>\n",
        "      <td> 104</td>\n",
        "      <td> 34.2</td>\n",
        "      <td> 21</td>\n",
        "      <td> 27.7</td>\n",
        "      <td> 21</td>\n",
        "      <td> 979.8</td>\n",
        "      <td>  8</td>\n",
        "      <td>...</td>\n",
        "      <td>  36.9</td>\n",
        "      <td> 36.1</td>\n",
        "      <td> NaN</td>\n",
        "      <td> 33.1</td>\n",
        "      <td> NaN</td>\n",
        "      <td> 0.0</td>\n",
        "      <td> C</td>\n",
        "      <td> 999.9</td>\n",
        "      <td>     0</td>\n",
        "      <td> Cfc</td>\n",
        "    </tr>\n",
        "    <tr>\n",
        "      <th>4</th>\n",
        "      <td> 40180</td>\n",
        "      <td> 16201</td>\n",
        "      <td> 1991</td>\n",
        "      <td> 105</td>\n",
        "      <td> 32.5</td>\n",
        "      <td> 24</td>\n",
        "      <td> 25.6</td>\n",
        "      <td> 24</td>\n",
        "      <td> 983.6</td>\n",
        "      <td>  8</td>\n",
        "      <td>...</td>\n",
        "      <td>  32.1</td>\n",
        "      <td> 34.3</td>\n",
        "      <td> NaN</td>\n",
        "      <td> 30.2</td>\n",
        "      <td>   *</td>\n",
        "      <td> 0.0</td>\n",
        "      <td> C</td>\n",
        "      <td> 999.9</td>\n",
        "      <td>     0</td>\n",
        "      <td> Cfc</td>\n",
        "    </tr>\n",
        "  </tbody>\n",
        "</table>\n",
        "<p>5 rows \u00d7 27 columns</p>\n",
        "</div>"
       ],
       "metadata": {},
       "output_type": "pyout",
       "prompt_number": 21,
       "text": [
        "     stn   wban  year monthday  temp temp_count  dewp dewp_count    slp  \\\n",
        "0  40180  16201  1991      101  30.4         24  22.6         24  977.1   \n",
        "1  40180  16201  1991      102  36.8         23  28.6         23  961.9   \n",
        "2  40180  16201  1991      103  35.9         24  27.6         24  965.0   \n",
        "3  40180  16201  1991      104  34.2         21  27.7         21  979.8   \n",
        "4  40180  16201  1991      105  32.5         24  25.6         24  983.6   \n",
        "\n",
        "  slp_count  ...     gust   max max_flag   min min_flag prcp prc_flag   sndp  \\\n",
        "0        16  ...    999.9  34.5        *  20.1      NaN  0.0        F  999.9   \n",
        "1         8  ...     39.0  38.1      NaN  30.9      NaN  0.0        F  999.9   \n",
        "2         7  ...     49.9  37.4      NaN  33.8        *  0.0        E  999.9   \n",
        "3         8  ...     36.9  36.1      NaN  33.1      NaN  0.0        C  999.9   \n",
        "4         8  ...     32.1  34.3      NaN  30.2        *  0.0        C  999.9   \n",
        "\n",
        "  frshtt koppen  \n",
        "0  11000    Cfc  \n",
        "1  11000    Cfc  \n",
        "2      0    Cfc  \n",
        "3      0    Cfc  \n",
        "4      0    Cfc  \n",
        "\n",
        "[5 rows x 27 columns]"
       ]
      }
     ],
     "prompt_number": 21
    },
    {
     "cell_type": "heading",
     "level": 3,
     "metadata": {},
     "source": [
      "Performing data management operations on the dataset"
     ]
    },
    {
     "cell_type": "markdown",
     "metadata": {},
     "source": [
      "Now that we have the raw dataset, we can start doing management operations. First generate a copy dataframe with only the columns we are interested in."
     ]
    },
    {
     "cell_type": "code",
     "collapsed": false,
     "input": [
      "dfObs2 = dfObs.copy()[['stn','wban','year','monthday','temp','max','min','frshtt','koppen']]"
     ],
     "language": "python",
     "metadata": {},
     "outputs": [],
     "prompt_number": 22
    },
    {
     "cell_type": "heading",
     "level": 4,
     "metadata": {},
     "source": [
      "Management"
     ]
    },
    {
     "cell_type": "markdown",
     "metadata": {},
     "source": [
      "Generate an index using the id station and the date"
     ]
    },
    {
     "cell_type": "code",
     "collapsed": false,
     "input": [
      "def getDateTimeFromRow(row):\n",
      "    try:\n",
      "        iyear = int(row.year)\n",
      "        imonth = int(\"{:0>4}\".format(row.monthday)[0:2])\n",
      "        iday = int(\"{:0>4}\".format(row.monthday)[2:4])\n",
      "        return  datetime(iyear,imonth,iday)\n",
      "    except ValueError:\n",
      "        return np.nan\n",
      "\n",
      "dfObs2['id']   = dfObs2.apply(lambda row: getId(row.stn,row.wban) ,axis=1)\n",
      "dfObs2['date'] = dfObs2.apply(lambda row : getDateTimeFromRow(row),axis=1)\n",
      "dfObs2.set_index(['id','date'],inplace=True)"
     ],
     "language": "python",
     "metadata": {},
     "outputs": [],
     "prompt_number": 23
    },
    {
     "cell_type": "markdown",
     "metadata": {},
     "source": [
      "The `frshtt` column needs to be padded with zeros to get all the flags in the correct place. Then is possible to get the occurrence of different weather conditions"
     ]
    },
    {
     "cell_type": "code",
     "collapsed": false,
     "input": [
      "dfObs2['frshtt']  = dfObs2.apply(lambda row: \"{:0>6}\".format(row.frshtt),axis=1)\n",
      "dfObs2['fog']     = dfObs2['frshtt'].apply(lambda row: row[0:1]=='1')\n",
      "dfObs2['rain']    = dfObs2['frshtt'].apply(lambda row: row[1:2]=='1')\n",
      "dfObs2['snow']    = dfObs2['frshtt'].apply(lambda row: row[2:3]=='1')\n",
      "dfObs2['hail']    = dfObs2['frshtt'].apply(lambda row: row[3:4]=='1')\n",
      "dfObs2['thunder'] = dfObs2['frshtt'].apply(lambda row: row[4:5]=='1')\n",
      "dfObs2['tornado'] = dfObs2['frshtt'].apply(lambda row: row[5:6]=='1')"
     ],
     "language": "python",
     "metadata": {},
     "outputs": [],
     "prompt_number": 24
    },
    {
     "cell_type": "markdown",
     "metadata": {},
     "source": [
      "Recode the temperatures columns, replacing the NaN values and afterwards as numerics"
     ]
    },
    {
     "cell_type": "code",
     "collapsed": false,
     "input": [
      "dfObs2['tempC'] = dfObs2['temp'].replace('99.9', np.nan)\n",
      "dfObs2['maxC']  = dfObs2['max'].replace('99.9', np.nan)\n",
      "dfObs2['minC']  = dfObs2['min'].replace('99.9', np.nan)\n",
      "\n",
      "dfObs2['tempC'] = dfObs2['tempC'].convert_objects(convert_numeric=True) / 10\n",
      "dfObs2['maxC']  = dfObs2['maxC'].convert_objects(convert_numeric=True) / 10\n",
      "dfObs2['minC']  = dfObs2['minC'].convert_objects(convert_numeric=True) / 10"
     ],
     "language": "python",
     "metadata": {},
     "outputs": [],
     "prompt_number": 25
    },
    {
     "cell_type": "heading",
     "level": 4,
     "metadata": {},
     "source": [
      "Frequency tables"
     ]
    },
    {
     "cell_type": "markdown",
     "metadata": {},
     "source": [
      "Frequency tables for koppen, thunders, tornados that are categorized"
     ]
    },
    {
     "cell_type": "code",
     "collapsed": false,
     "input": [
      "dfObs.koppen.value_counts(normalize=True)*100"
     ],
     "language": "python",
     "metadata": {},
     "outputs": [
      {
       "metadata": {},
       "output_type": "pyout",
       "prompt_number": 26,
       "text": [
        "Cfb    4.206472\n",
        "Cfa    4.092706\n",
        "BSh    4.058425\n",
        "Dfc    4.057249\n",
        "Csa    4.037672\n",
        "Aw     3.995913\n",
        "ET     3.954154\n",
        "Dsc    3.933317\n",
        "BWh    3.926259\n",
        "Csb    3.904413\n",
        "Af     3.797369\n",
        "Dfa    3.756619\n",
        "Cfc    3.722338\n",
        "BSk    3.693686\n",
        "Dwb    3.629746\n",
        "Dwa    3.600506\n",
        "Dwc    3.593196\n",
        "BWk    3.561688\n",
        "Dfb    3.463550\n",
        "Cwa    3.191236\n",
        "Dfd    3.155610\n",
        "Dwd    3.049323\n",
        "Dsa    2.991263\n",
        "Dsb    2.736005\n",
        "Cwb    2.696851\n",
        "EF     2.018542\n",
        "Am     1.730095\n",
        "Csc    1.673716\n",
        "As     1.562219\n",
        "Cwc    1.551464\n",
        "Dsd    0.658396\n",
        "dtype: float64"
       ]
      }
     ],
     "prompt_number": 26
    },
    {
     "cell_type": "code",
     "collapsed": false,
     "input": [
      "dfObs2.tornado.value_counts(normalize=True)*100"
     ],
     "language": "python",
     "metadata": {},
     "outputs": [
      {
       "metadata": {},
       "output_type": "pyout",
       "prompt_number": 27,
       "text": [
        "False    99.988069\n",
        "True      0.011931\n",
        "dtype: float64"
       ]
      }
     ],
     "prompt_number": 27
    },
    {
     "cell_type": "code",
     "collapsed": false,
     "input": [
      "dfObs2.thunder.value_counts(normalize=True)*100"
     ],
     "language": "python",
     "metadata": {},
     "outputs": [
      {
       "metadata": {},
       "output_type": "pyout",
       "prompt_number": 28,
       "text": [
        "False    94.976499\n",
        "True      5.023501\n",
        "dtype: float64"
       ]
      }
     ],
     "prompt_number": 28
    },
    {
     "cell_type": "markdown",
     "metadata": {},
     "source": [
      "Categorize the temperatures by quantiles and then make the frequency table to confirm the categorization"
     ]
    },
    {
     "cell_type": "code",
     "collapsed": false,
     "input": [
      "dfObs2['temp4']=pd.qcut(dfObs2.tempC, 4, labels=[\"1=0%tile\",\"2=25%tile\",\"3=50%tile\",\"4=75%tile\"])\n",
      "dfObs2['temp4'].value_counts(normalize=True)*100"
     ],
     "language": "python",
     "metadata": {},
     "outputs": [
      {
       "metadata": {},
       "output_type": "pyout",
       "prompt_number": 29,
       "text": [
        "1=0%tile     25.066503\n",
        "2=25%tile    25.058521\n",
        "3=50%tile    24.940639\n",
        "4=75%tile    24.934169\n",
        "dtype: float64"
       ]
      }
     ],
     "prompt_number": 29
    },
    {
     "cell_type": "markdown",
     "metadata": {},
     "source": [
      "And to get the cuts, we can group by the categorization column and get the max value for every group"
     ]
    },
    {
     "cell_type": "code",
     "collapsed": false,
     "input": [
      "group_by_year= dfObs2[['temp4','tempC']].groupby(['temp4'])\n",
      "group_by_year.max()"
     ],
     "language": "python",
     "metadata": {},
     "outputs": [
      {
       "html": [
        "<div style=\"max-height:1000px;max-width:1500px;overflow:auto;\">\n",
        "<table border=\"1\" class=\"dataframe\">\n",
        "  <thead>\n",
        "    <tr style=\"text-align: right;\">\n",
        "      <th></th>\n",
        "      <th>tempC</th>\n",
        "    </tr>\n",
        "    <tr>\n",
        "      <th>temp4</th>\n",
        "      <th></th>\n",
        "    </tr>\n",
        "  </thead>\n",
        "  <tbody>\n",
        "    <tr>\n",
        "      <th>1=0%tile</th>\n",
        "      <td>  3.57</td>\n",
        "    </tr>\n",
        "    <tr>\n",
        "      <th>2=25%tile</th>\n",
        "      <td>  5.42</td>\n",
        "    </tr>\n",
        "    <tr>\n",
        "      <th>3=50%tile</th>\n",
        "      <td>  7.15</td>\n",
        "    </tr>\n",
        "    <tr>\n",
        "      <th>4=75%tile</th>\n",
        "      <td> 11.46</td>\n",
        "    </tr>\n",
        "  </tbody>\n",
        "</table>\n",
        "</div>"
       ],
       "metadata": {},
       "output_type": "pyout",
       "prompt_number": 38,
       "text": [
        "           tempC\n",
        "temp4           \n",
        "1=0%tile    3.57\n",
        "2=25%tile   5.42\n",
        "3=50%tile   7.15\n",
        "4=75%tile  11.46"
       ]
      }
     ],
     "prompt_number": 38
    },
    {
     "cell_type": "code",
     "collapsed": false,
     "input": [],
     "language": "python",
     "metadata": {},
     "outputs": []
    }
   ],
   "metadata": {}
  }
 ]
}